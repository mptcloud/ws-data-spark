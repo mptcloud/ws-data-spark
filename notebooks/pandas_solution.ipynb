{
 "cells": [
  {
   "cell_type": "code",
   "execution_count": 278,
   "metadata": {},
   "outputs": [],
   "source": [
    "import glob\n",
    "import matplotlib\n",
    "import matplotlib.pyplot as plt\n",
    "import os\n",
    "import pandas as pd\n",
    "import numpy as np\n",
    "import pandas as pd\n",
    "import seaborn as sns\n",
    "import sklearn as sk\n",
    "\n",
    "from math import radians, cos, sin, asin, sqrt, pi\n",
    "from pathlib import Path\n",
    "from functools import reduce\n",
    "from multiprocessing.pool import ThreadPool as Pool\n",
    "# from pathos.multiprocessing import ProcessPool\n",
    "from sklearn.cluster import KMeans\n",
    "from toolz.sandbox.parallel import fold\n",
    "\n",
    "from os.path import expanduser\n",
    "from sklearn.preprocessing import StandardScaler"
   ]
  },
  {
   "cell_type": "code",
   "execution_count": 8,
   "metadata": {},
   "outputs": [],
   "source": [
    "home_path = Path.home()\n",
    "dir_name = 'ml_eq'\n",
    "\n",
    "data_sample_path = home_path / dir_name / 'data' / 'DataSample.csv'\n",
    "poi_path = home_path / dir_name / 'data' / 'POIList.csv'"
   ]
  },
  {
   "cell_type": "code",
   "execution_count": 51,
   "metadata": {},
   "outputs": [],
   "source": [
    "data_df = pd.read_csv(\n",
    "    data_sample_path,\n",
    "    names=['_ID', 'TimeSt', 'Country', 'Province', 'City', 'Latitude', 'Longitude'],\n",
    "    parse_dates=['TimeSt'],\n",
    "    header=0,\n",
    "    index_col=0,\n",
    "    na_values=[\"\\\\N\"]\n",
    ")"
   ]
  },
  {
   "cell_type": "code",
   "execution_count": 52,
   "metadata": {},
   "outputs": [
    {
     "name": "stdout",
     "output_type": "stream",
     "text": [
      "<class 'pandas.core.frame.DataFrame'>\n",
      "Int64Index: 22025 entries, 4516516 to 5615006\n",
      "Data columns (total 6 columns):\n",
      "TimeSt       22025 non-null datetime64[ns]\n",
      "Country      22025 non-null object\n",
      "Province     22025 non-null object\n",
      "City         22025 non-null object\n",
      "Latitude     22025 non-null float64\n",
      "Longitude    22025 non-null float64\n",
      "dtypes: datetime64[ns](1), float64(2), object(3)\n",
      "memory usage: 1.2+ MB\n"
     ]
    }
   ],
   "source": [
    "data_df.info()"
   ]
  },
  {
   "cell_type": "code",
   "execution_count": 53,
   "metadata": {},
   "outputs": [
    {
     "data": {
      "text/html": [
       "<div>\n",
       "<style scoped>\n",
       "    .dataframe tbody tr th:only-of-type {\n",
       "        vertical-align: middle;\n",
       "    }\n",
       "\n",
       "    .dataframe tbody tr th {\n",
       "        vertical-align: top;\n",
       "    }\n",
       "\n",
       "    .dataframe thead th {\n",
       "        text-align: right;\n",
       "    }\n",
       "</style>\n",
       "<table border=\"1\" class=\"dataframe\">\n",
       "  <thead>\n",
       "    <tr style=\"text-align: right;\">\n",
       "      <th></th>\n",
       "      <th>TimeSt</th>\n",
       "      <th>Country</th>\n",
       "      <th>Province</th>\n",
       "      <th>City</th>\n",
       "      <th>Latitude</th>\n",
       "      <th>Longitude</th>\n",
       "    </tr>\n",
       "    <tr>\n",
       "      <th>_ID</th>\n",
       "      <th></th>\n",
       "      <th></th>\n",
       "      <th></th>\n",
       "      <th></th>\n",
       "      <th></th>\n",
       "      <th></th>\n",
       "    </tr>\n",
       "  </thead>\n",
       "  <tbody>\n",
       "    <tr>\n",
       "      <th>4516516</th>\n",
       "      <td>2017-06-21 00:00:00.143</td>\n",
       "      <td>CA</td>\n",
       "      <td>ON</td>\n",
       "      <td>Waterloo</td>\n",
       "      <td>43.49347</td>\n",
       "      <td>-80.49123</td>\n",
       "    </tr>\n",
       "    <tr>\n",
       "      <th>4516547</th>\n",
       "      <td>2017-06-21 18:00:00.193</td>\n",
       "      <td>CA</td>\n",
       "      <td>ON</td>\n",
       "      <td>London</td>\n",
       "      <td>42.93990</td>\n",
       "      <td>-81.27090</td>\n",
       "    </tr>\n",
       "    <tr>\n",
       "      <th>4516550</th>\n",
       "      <td>2017-06-21 15:00:00.287</td>\n",
       "      <td>CA</td>\n",
       "      <td>ON</td>\n",
       "      <td>Guelph</td>\n",
       "      <td>43.57760</td>\n",
       "      <td>-80.22010</td>\n",
       "    </tr>\n",
       "    <tr>\n",
       "      <th>4516600</th>\n",
       "      <td>2017-06-21 15:00:00.307</td>\n",
       "      <td>CA</td>\n",
       "      <td>ON</td>\n",
       "      <td>Stratford</td>\n",
       "      <td>43.37160</td>\n",
       "      <td>-80.97730</td>\n",
       "    </tr>\n",
       "    <tr>\n",
       "      <th>4516613</th>\n",
       "      <td>2017-06-21 15:00:00.497</td>\n",
       "      <td>CA</td>\n",
       "      <td>ON</td>\n",
       "      <td>Stratford</td>\n",
       "      <td>43.37160</td>\n",
       "      <td>-80.97730</td>\n",
       "    </tr>\n",
       "  </tbody>\n",
       "</table>\n",
       "</div>"
      ],
      "text/plain": [
       "                         TimeSt Country Province       City  Latitude  \\\n",
       "_ID                                                                     \n",
       "4516516 2017-06-21 00:00:00.143      CA       ON   Waterloo  43.49347   \n",
       "4516547 2017-06-21 18:00:00.193      CA       ON     London  42.93990   \n",
       "4516550 2017-06-21 15:00:00.287      CA       ON     Guelph  43.57760   \n",
       "4516600 2017-06-21 15:00:00.307      CA       ON  Stratford  43.37160   \n",
       "4516613 2017-06-21 15:00:00.497      CA       ON  Stratford  43.37160   \n",
       "\n",
       "         Longitude  \n",
       "_ID                 \n",
       "4516516  -80.49123  \n",
       "4516547  -81.27090  \n",
       "4516550  -80.22010  \n",
       "4516600  -80.97730  \n",
       "4516613  -80.97730  "
      ]
     },
     "execution_count": 53,
     "metadata": {},
     "output_type": "execute_result"
    }
   ],
   "source": [
    "data_df.head()"
   ]
  },
  {
   "cell_type": "code",
   "execution_count": 44,
   "metadata": {},
   "outputs": [
    {
     "data": {
      "text/plain": [
       "TimeSt       19972\n",
       "Country          1\n",
       "Province        12\n",
       "City           656\n",
       "Latitude      5282\n",
       "Longitude     5296\n",
       "dtype: int64"
      ]
     },
     "execution_count": 44,
     "metadata": {},
     "output_type": "execute_result"
    }
   ],
   "source": [
    "data_df.nunique()"
   ]
  },
  {
   "cell_type": "markdown",
   "metadata": {},
   "source": [
    "#### A city can have multiple longitude and/or latitude values"
   ]
  },
  {
   "cell_type": "code",
   "execution_count": 69,
   "metadata": {},
   "outputs": [],
   "source": [
    "group_cols = ['City']\n",
    "agg_dict = {'Latitude': ['nunique'], 'Longitude': ['nunique']}\n",
    "city_coordinate_count_df = data_df.groupby(group_cols).agg(agg_dict)"
   ]
  },
  {
   "cell_type": "code",
   "execution_count": 70,
   "metadata": {},
   "outputs": [],
   "source": [
    "level0 = city_coordinate_count_df.columns.get_level_values(0)\n",
    "level1 = city_coordinate_count_df.columns.get_level_values(1)\n",
    "city_coordinate_count_df.columns = level0 + '_' + level1"
   ]
  },
  {
   "cell_type": "code",
   "execution_count": 85,
   "metadata": {},
   "outputs": [
    {
     "data": {
      "text/html": [
       "<div>\n",
       "<style scoped>\n",
       "    .dataframe tbody tr th:only-of-type {\n",
       "        vertical-align: middle;\n",
       "    }\n",
       "\n",
       "    .dataframe tbody tr th {\n",
       "        vertical-align: top;\n",
       "    }\n",
       "\n",
       "    .dataframe thead th {\n",
       "        text-align: right;\n",
       "    }\n",
       "</style>\n",
       "<table border=\"1\" class=\"dataframe\">\n",
       "  <thead>\n",
       "    <tr style=\"text-align: right;\">\n",
       "      <th></th>\n",
       "      <th>Latitude_nunique</th>\n",
       "      <th>Longitude_nunique</th>\n",
       "    </tr>\n",
       "    <tr>\n",
       "      <th>City</th>\n",
       "      <th></th>\n",
       "      <th></th>\n",
       "    </tr>\n",
       "  </thead>\n",
       "  <tbody>\n",
       "    <tr>\n",
       "      <th>Calgary</th>\n",
       "      <td>738</td>\n",
       "      <td>702</td>\n",
       "    </tr>\n",
       "    <tr>\n",
       "      <th>Edmonton</th>\n",
       "      <td>609</td>\n",
       "      <td>609</td>\n",
       "    </tr>\n",
       "    <tr>\n",
       "      <th>Toronto</th>\n",
       "      <td>260</td>\n",
       "      <td>261</td>\n",
       "    </tr>\n",
       "    <tr>\n",
       "      <th>Mississauga</th>\n",
       "      <td>158</td>\n",
       "      <td>161</td>\n",
       "    </tr>\n",
       "    <tr>\n",
       "      <th>Saskatoon</th>\n",
       "      <td>126</td>\n",
       "      <td>122</td>\n",
       "    </tr>\n",
       "  </tbody>\n",
       "</table>\n",
       "</div>"
      ],
      "text/plain": [
       "             Latitude_nunique  Longitude_nunique\n",
       "City                                            \n",
       "Calgary                   738                702\n",
       "Edmonton                  609                609\n",
       "Toronto                   260                261\n",
       "Mississauga               158                161\n",
       "Saskatoon                 126                122"
      ]
     },
     "execution_count": 85,
     "metadata": {},
     "output_type": "execute_result"
    }
   ],
   "source": [
    "city_coordinate_count_df.sort_values(by='Latitude_nunique', ascending=False).head()"
   ]
  },
  {
   "cell_type": "markdown",
   "metadata": {},
   "source": [
    "#### One particular combnation of geographical coordinates belongs to two different cities. \n",
    "\n",
    "Pointe-Claire is a suburb of greater Montreal. City labels might need to be checked."
   ]
  },
  {
   "cell_type": "code",
   "execution_count": 110,
   "metadata": {},
   "outputs": [
    {
     "data": {
      "text/plain": [
       "Latitude  Longitude \n",
       "60.00000  -95.00000     2\n",
       "62.82730  -136.53957    1\n",
       "45.44144  -73.77847     1\n",
       "45.43550  -75.66560     1\n",
       "45.43553  -75.78757     1\n",
       "Name: City, dtype: int64"
      ]
     },
     "execution_count": 110,
     "metadata": {},
     "output_type": "execute_result"
    }
   ],
   "source": [
    "group_cols = ['Latitude', 'Longitude']\n",
    "data_df.groupby(group_cols).agg('nunique')['City'].sort_values(ascending=False).head()"
   ]
  },
  {
   "cell_type": "code",
   "execution_count": 111,
   "metadata": {},
   "outputs": [
    {
     "data": {
      "text/html": [
       "<div>\n",
       "<style scoped>\n",
       "    .dataframe tbody tr th:only-of-type {\n",
       "        vertical-align: middle;\n",
       "    }\n",
       "\n",
       "    .dataframe tbody tr th {\n",
       "        vertical-align: top;\n",
       "    }\n",
       "\n",
       "    .dataframe thead th {\n",
       "        text-align: right;\n",
       "    }\n",
       "</style>\n",
       "<table border=\"1\" class=\"dataframe\">\n",
       "  <thead>\n",
       "    <tr style=\"text-align: right;\">\n",
       "      <th></th>\n",
       "      <th>TimeSt</th>\n",
       "      <th>Country</th>\n",
       "      <th>Province</th>\n",
       "      <th>City</th>\n",
       "      <th>Latitude</th>\n",
       "      <th>Longitude</th>\n",
       "    </tr>\n",
       "    <tr>\n",
       "      <th>_ID</th>\n",
       "      <th></th>\n",
       "      <th></th>\n",
       "      <th></th>\n",
       "      <th></th>\n",
       "      <th></th>\n",
       "      <th></th>\n",
       "    </tr>\n",
       "  </thead>\n",
       "  <tbody>\n",
       "    <tr>\n",
       "      <th>4867724</th>\n",
       "      <td>2017-06-21 05:24:38.087</td>\n",
       "      <td>CA</td>\n",
       "      <td>QC</td>\n",
       "      <td>Pointe-Claire</td>\n",
       "      <td>60.0</td>\n",
       "      <td>-95.0</td>\n",
       "    </tr>\n",
       "    <tr>\n",
       "      <th>5108404</th>\n",
       "      <td>2017-06-21 15:41:35.473</td>\n",
       "      <td>CA</td>\n",
       "      <td>QC</td>\n",
       "      <td>Montreal</td>\n",
       "      <td>60.0</td>\n",
       "      <td>-95.0</td>\n",
       "    </tr>\n",
       "  </tbody>\n",
       "</table>\n",
       "</div>"
      ],
      "text/plain": [
       "                         TimeSt Country Province           City  Latitude  \\\n",
       "_ID                                                                         \n",
       "4867724 2017-06-21 05:24:38.087      CA       QC  Pointe-Claire      60.0   \n",
       "5108404 2017-06-21 15:41:35.473      CA       QC       Montreal      60.0   \n",
       "\n",
       "         Longitude  \n",
       "_ID                 \n",
       "4867724      -95.0  \n",
       "5108404      -95.0  "
      ]
     },
     "execution_count": 111,
     "metadata": {},
     "output_type": "execute_result"
    }
   ],
   "source": [
    "criteria = (data_df['Latitude'] == 60.00000) & (data_df['Longitude'] == -95.00000)\n",
    "data_df.loc[criteria, :]"
   ]
  },
  {
   "cell_type": "markdown",
   "metadata": {},
   "source": [
    "#### Number of entries sharing same the timestamp and geographical identifiers"
   ]
  },
  {
   "cell_type": "code",
   "execution_count": 96,
   "metadata": {},
   "outputs": [
    {
     "data": {
      "text/plain": [
       "TimeSt                   Latitude  Longitude\n",
       "2017-06-21 16:59:47.400  43.3756   -79.8145     2\n",
       "2017-06-21 04:44:00.283  48.4084   -89.2550     2\n",
       "2017-06-21 17:41:23.493  43.3320   -79.8070     2\n",
       "2017-06-21 17:41:16.563  44.2377   -76.5602     2\n",
       "2017-06-21 04:44:19.453  53.0957   -113.4680    2\n",
       "Name: City, dtype: int64"
      ]
     },
     "execution_count": 96,
     "metadata": {},
     "output_type": "execute_result"
    }
   ],
   "source": [
    "group_cols = ['TimeSt', 'Latitude', 'Longitude']\n",
    "data_df.groupby(group_cols).agg('count')['City'].sort_values(ascending=False).head()"
   ]
  },
  {
   "cell_type": "code",
   "execution_count": 106,
   "metadata": {},
   "outputs": [
    {
     "data": {
      "text/plain": [
       "TimeSt                   City      \n",
       "2017-06-21 16:59:47.400  Burlington    2\n",
       "2017-06-21 17:41:23.493  Burlington    2\n",
       "2017-06-21 04:44:19.453  Millet        2\n",
       "2017-06-21 17:41:12.660  Edmonton      2\n",
       "2017-06-21 17:41:11.987  Bewdley       2\n",
       "Name: Latitude, dtype: int64"
      ]
     },
     "execution_count": 106,
     "metadata": {},
     "output_type": "execute_result"
    }
   ],
   "source": [
    "group_cols = ['TimeSt', 'City']\n",
    "data_df.groupby(group_cols).agg('count')['Latitude'].sort_values(ascending=False).head()"
   ]
  },
  {
   "cell_type": "markdown",
   "metadata": {},
   "source": [
    "#### An example of such an entry"
   ]
  },
  {
   "cell_type": "code",
   "execution_count": 104,
   "metadata": {},
   "outputs": [
    {
     "data": {
      "text/html": [
       "<div>\n",
       "<style scoped>\n",
       "    .dataframe tbody tr th:only-of-type {\n",
       "        vertical-align: middle;\n",
       "    }\n",
       "\n",
       "    .dataframe tbody tr th {\n",
       "        vertical-align: top;\n",
       "    }\n",
       "\n",
       "    .dataframe thead th {\n",
       "        text-align: right;\n",
       "    }\n",
       "</style>\n",
       "<table border=\"1\" class=\"dataframe\">\n",
       "  <thead>\n",
       "    <tr style=\"text-align: right;\">\n",
       "      <th></th>\n",
       "      <th>TimeSt</th>\n",
       "      <th>Country</th>\n",
       "      <th>Province</th>\n",
       "      <th>City</th>\n",
       "      <th>Latitude</th>\n",
       "      <th>Longitude</th>\n",
       "    </tr>\n",
       "    <tr>\n",
       "      <th>_ID</th>\n",
       "      <th></th>\n",
       "      <th></th>\n",
       "      <th></th>\n",
       "      <th></th>\n",
       "      <th></th>\n",
       "      <th></th>\n",
       "    </tr>\n",
       "  </thead>\n",
       "  <tbody>\n",
       "    <tr>\n",
       "      <th>5365152</th>\n",
       "      <td>2017-06-21 16:59:47.400</td>\n",
       "      <td>CA</td>\n",
       "      <td>ON</td>\n",
       "      <td>Burlington</td>\n",
       "      <td>43.3756</td>\n",
       "      <td>-79.8145</td>\n",
       "    </tr>\n",
       "    <tr>\n",
       "      <th>5365376</th>\n",
       "      <td>2017-06-21 16:59:47.400</td>\n",
       "      <td>CA</td>\n",
       "      <td>ON</td>\n",
       "      <td>Burlington</td>\n",
       "      <td>43.3756</td>\n",
       "      <td>-79.8145</td>\n",
       "    </tr>\n",
       "  </tbody>\n",
       "</table>\n",
       "</div>"
      ],
      "text/plain": [
       "                         TimeSt Country Province        City  Latitude  \\\n",
       "_ID                                                                      \n",
       "5365152 2017-06-21 16:59:47.400      CA       ON  Burlington   43.3756   \n",
       "5365376 2017-06-21 16:59:47.400      CA       ON  Burlington   43.3756   \n",
       "\n",
       "         Longitude  \n",
       "_ID                 \n",
       "5365152   -79.8145  \n",
       "5365376   -79.8145  "
      ]
     },
     "execution_count": 104,
     "metadata": {},
     "output_type": "execute_result"
    }
   ],
   "source": [
    "criteria = (data_df['TimeSt'] == '2017-06-21 16:59:47.400') & (data_df['Latitude'] == 43.3756) & (data_df['Longitude'] == -79.8145)\n",
    "data_df.loc[criteria, :]"
   ]
  },
  {
   "cell_type": "markdown",
   "metadata": {},
   "source": [
    "#### Dropping duplicates in two ways to check consistency of both methods\n",
    "\n",
    "Both ways amount to the same result. No duplicated entries left"
   ]
  },
  {
   "cell_type": "code",
   "execution_count": 244,
   "metadata": {},
   "outputs": [],
   "source": [
    "data_df_filtered = data_df.drop_duplicates(keep=False)"
   ]
  },
  {
   "cell_type": "code",
   "execution_count": 245,
   "metadata": {},
   "outputs": [
    {
     "data": {
      "text/html": [
       "<div>\n",
       "<style scoped>\n",
       "    .dataframe tbody tr th:only-of-type {\n",
       "        vertical-align: middle;\n",
       "    }\n",
       "\n",
       "    .dataframe tbody tr th {\n",
       "        vertical-align: top;\n",
       "    }\n",
       "\n",
       "    .dataframe thead th {\n",
       "        text-align: right;\n",
       "    }\n",
       "</style>\n",
       "<table border=\"1\" class=\"dataframe\">\n",
       "  <thead>\n",
       "    <tr style=\"text-align: right;\">\n",
       "      <th></th>\n",
       "      <th>TimeSt</th>\n",
       "      <th>Country</th>\n",
       "      <th>Province</th>\n",
       "      <th>City</th>\n",
       "      <th>Latitude</th>\n",
       "      <th>Longitude</th>\n",
       "    </tr>\n",
       "    <tr>\n",
       "      <th>_ID</th>\n",
       "      <th></th>\n",
       "      <th></th>\n",
       "      <th></th>\n",
       "      <th></th>\n",
       "      <th></th>\n",
       "      <th></th>\n",
       "    </tr>\n",
       "  </thead>\n",
       "  <tbody>\n",
       "    <tr>\n",
       "      <th>4516516</th>\n",
       "      <td>2017-06-21 00:00:00.143</td>\n",
       "      <td>CA</td>\n",
       "      <td>ON</td>\n",
       "      <td>Waterloo</td>\n",
       "      <td>43.49347</td>\n",
       "      <td>-80.49123</td>\n",
       "    </tr>\n",
       "    <tr>\n",
       "      <th>4516547</th>\n",
       "      <td>2017-06-21 18:00:00.193</td>\n",
       "      <td>CA</td>\n",
       "      <td>ON</td>\n",
       "      <td>London</td>\n",
       "      <td>42.93990</td>\n",
       "      <td>-81.27090</td>\n",
       "    </tr>\n",
       "    <tr>\n",
       "      <th>4516550</th>\n",
       "      <td>2017-06-21 15:00:00.287</td>\n",
       "      <td>CA</td>\n",
       "      <td>ON</td>\n",
       "      <td>Guelph</td>\n",
       "      <td>43.57760</td>\n",
       "      <td>-80.22010</td>\n",
       "    </tr>\n",
       "    <tr>\n",
       "      <th>4516600</th>\n",
       "      <td>2017-06-21 15:00:00.307</td>\n",
       "      <td>CA</td>\n",
       "      <td>ON</td>\n",
       "      <td>Stratford</td>\n",
       "      <td>43.37160</td>\n",
       "      <td>-80.97730</td>\n",
       "    </tr>\n",
       "    <tr>\n",
       "      <th>4516613</th>\n",
       "      <td>2017-06-21 15:00:00.497</td>\n",
       "      <td>CA</td>\n",
       "      <td>ON</td>\n",
       "      <td>Stratford</td>\n",
       "      <td>43.37160</td>\n",
       "      <td>-80.97730</td>\n",
       "    </tr>\n",
       "  </tbody>\n",
       "</table>\n",
       "</div>"
      ],
      "text/plain": [
       "                         TimeSt Country Province       City  Latitude  \\\n",
       "_ID                                                                     \n",
       "4516516 2017-06-21 00:00:00.143      CA       ON   Waterloo  43.49347   \n",
       "4516547 2017-06-21 18:00:00.193      CA       ON     London  42.93990   \n",
       "4516550 2017-06-21 15:00:00.287      CA       ON     Guelph  43.57760   \n",
       "4516600 2017-06-21 15:00:00.307      CA       ON  Stratford  43.37160   \n",
       "4516613 2017-06-21 15:00:00.497      CA       ON  Stratford  43.37160   \n",
       "\n",
       "         Longitude  \n",
       "_ID                 \n",
       "4516516  -80.49123  \n",
       "4516547  -81.27090  \n",
       "4516550  -80.22010  \n",
       "4516600  -80.97730  \n",
       "4516613  -80.97730  "
      ]
     },
     "execution_count": 245,
     "metadata": {},
     "output_type": "execute_result"
    }
   ],
   "source": [
    "data_df_filtered.head()"
   ]
  },
  {
   "cell_type": "code",
   "execution_count": 114,
   "metadata": {},
   "outputs": [
    {
     "name": "stdout",
     "output_type": "stream",
     "text": [
      "<class 'pandas.core.frame.DataFrame'>\n",
      "Int64Index: 17973 entries, 4516516 to 5615006\n",
      "Data columns (total 6 columns):\n",
      "TimeSt       17973 non-null datetime64[ns]\n",
      "Country      17973 non-null object\n",
      "Province     17973 non-null object\n",
      "City         17973 non-null object\n",
      "Latitude     17973 non-null float64\n",
      "Longitude    17973 non-null float64\n",
      "dtypes: datetime64[ns](1), float64(2), object(3)\n",
      "memory usage: 982.9+ KB\n"
     ]
    }
   ],
   "source": [
    "data_df_filtered.info()"
   ]
  },
  {
   "cell_type": "code",
   "execution_count": 115,
   "metadata": {},
   "outputs": [],
   "source": [
    "data_df_filtered_2 = data_df.drop_duplicates(subset=['TimeSt', 'Latitude', 'Longitude'], keep=False)"
   ]
  },
  {
   "cell_type": "code",
   "execution_count": 116,
   "metadata": {},
   "outputs": [
    {
     "name": "stdout",
     "output_type": "stream",
     "text": [
      "<class 'pandas.core.frame.DataFrame'>\n",
      "Int64Index: 17973 entries, 4516516 to 5615006\n",
      "Data columns (total 6 columns):\n",
      "TimeSt       17973 non-null datetime64[ns]\n",
      "Country      17973 non-null object\n",
      "Province     17973 non-null object\n",
      "City         17973 non-null object\n",
      "Latitude     17973 non-null float64\n",
      "Longitude    17973 non-null float64\n",
      "dtypes: datetime64[ns](1), float64(2), object(3)\n",
      "memory usage: 982.9+ KB\n"
     ]
    }
   ],
   "source": [
    "data_df_filtered_2.info()"
   ]
  },
  {
   "cell_type": "code",
   "execution_count": 117,
   "metadata": {},
   "outputs": [
    {
     "data": {
      "text/plain": [
       "TimeSt                   Latitude  Longitude\n",
       "2017-06-21 22:59:56.167  49.7828   -94.4411     1\n",
       "2017-06-21 07:41:51.570  45.4873   -73.6043     1\n",
       "2017-06-21 07:41:17.497  51.0104   -114.0660    1\n",
       "2017-06-21 07:41:17.583  49.6994   -112.8220    1\n",
       "2017-06-21 07:41:27.723  51.0630   -113.8890    1\n",
       "Name: City, dtype: int64"
      ]
     },
     "execution_count": 117,
     "metadata": {},
     "output_type": "execute_result"
    }
   ],
   "source": [
    "group_cols = ['TimeSt', 'Latitude', 'Longitude']\n",
    "data_df_filtered.groupby(group_cols).agg('count')['City'].sort_values(ascending=False).head()"
   ]
  },
  {
   "cell_type": "markdown",
   "metadata": {},
   "source": [
    "#### Labeling"
   ]
  },
  {
   "cell_type": "code",
   "execution_count": 152,
   "metadata": {},
   "outputs": [],
   "source": [
    "poi_df = pd.read_csv(\n",
    "    poi_path,\n",
    "    names=['POIID', 'Latitude', 'Longitude'],\n",
    "    header=0,\n",
    "    na_values=[\"\\\\N\"]\n",
    ")"
   ]
  },
  {
   "cell_type": "code",
   "execution_count": 153,
   "metadata": {},
   "outputs": [
    {
     "name": "stdout",
     "output_type": "stream",
     "text": [
      "<class 'pandas.core.frame.DataFrame'>\n",
      "RangeIndex: 4 entries, 0 to 3\n",
      "Data columns (total 3 columns):\n",
      "POIID        4 non-null object\n",
      "Latitude     4 non-null float64\n",
      "Longitude    4 non-null float64\n",
      "dtypes: float64(2), object(1)\n",
      "memory usage: 224.0+ bytes\n"
     ]
    }
   ],
   "source": [
    "poi_df.info()"
   ]
  },
  {
   "cell_type": "code",
   "execution_count": 204,
   "metadata": {},
   "outputs": [
    {
     "data": {
      "text/html": [
       "<div>\n",
       "<style scoped>\n",
       "    .dataframe tbody tr th:only-of-type {\n",
       "        vertical-align: middle;\n",
       "    }\n",
       "\n",
       "    .dataframe tbody tr th {\n",
       "        vertical-align: top;\n",
       "    }\n",
       "\n",
       "    .dataframe thead th {\n",
       "        text-align: right;\n",
       "    }\n",
       "</style>\n",
       "<table border=\"1\" class=\"dataframe\">\n",
       "  <thead>\n",
       "    <tr style=\"text-align: right;\">\n",
       "      <th></th>\n",
       "      <th>POIID</th>\n",
       "      <th>Latitude</th>\n",
       "      <th>Longitude</th>\n",
       "    </tr>\n",
       "  </thead>\n",
       "  <tbody>\n",
       "    <tr>\n",
       "      <th>0</th>\n",
       "      <td>POI1</td>\n",
       "      <td>53.546167</td>\n",
       "      <td>-113.485734</td>\n",
       "    </tr>\n",
       "    <tr>\n",
       "      <th>1</th>\n",
       "      <td>POI2</td>\n",
       "      <td>53.546167</td>\n",
       "      <td>-113.485734</td>\n",
       "    </tr>\n",
       "    <tr>\n",
       "      <th>2</th>\n",
       "      <td>POI3</td>\n",
       "      <td>45.521629</td>\n",
       "      <td>-73.566024</td>\n",
       "    </tr>\n",
       "    <tr>\n",
       "      <th>3</th>\n",
       "      <td>POI4</td>\n",
       "      <td>45.224830</td>\n",
       "      <td>-63.232729</td>\n",
       "    </tr>\n",
       "  </tbody>\n",
       "</table>\n",
       "</div>"
      ],
      "text/plain": [
       "  POIID   Latitude   Longitude\n",
       "0  POI1  53.546167 -113.485734\n",
       "1  POI2  53.546167 -113.485734\n",
       "2  POI3  45.521629  -73.566024\n",
       "3  POI4  45.224830  -63.232729"
      ]
     },
     "execution_count": 204,
     "metadata": {},
     "output_type": "execute_result"
    }
   ],
   "source": [
    "poi_df.head()"
   ]
  },
  {
   "cell_type": "markdown",
   "metadata": {},
   "source": [
    "#### There are duplicate entries within the POIID list. POI1 and POI2 are the same."
   ]
  },
  {
   "cell_type": "code",
   "execution_count": 214,
   "metadata": {},
   "outputs": [],
   "source": [
    "poi_df_filtered = poi_df \\\n",
    "    .drop_duplicates(subset=['Latitude', 'Longitude'], keep='first') \\\n",
    "    .reset_index(drop=True)"
   ]
  },
  {
   "cell_type": "code",
   "execution_count": 215,
   "metadata": {},
   "outputs": [
    {
     "data": {
      "text/html": [
       "<div>\n",
       "<style scoped>\n",
       "    .dataframe tbody tr th:only-of-type {\n",
       "        vertical-align: middle;\n",
       "    }\n",
       "\n",
       "    .dataframe tbody tr th {\n",
       "        vertical-align: top;\n",
       "    }\n",
       "\n",
       "    .dataframe thead th {\n",
       "        text-align: right;\n",
       "    }\n",
       "</style>\n",
       "<table border=\"1\" class=\"dataframe\">\n",
       "  <thead>\n",
       "    <tr style=\"text-align: right;\">\n",
       "      <th></th>\n",
       "      <th>POIID</th>\n",
       "      <th>Latitude</th>\n",
       "      <th>Longitude</th>\n",
       "    </tr>\n",
       "  </thead>\n",
       "  <tbody>\n",
       "    <tr>\n",
       "      <th>0</th>\n",
       "      <td>POI1</td>\n",
       "      <td>53.546167</td>\n",
       "      <td>-113.485734</td>\n",
       "    </tr>\n",
       "    <tr>\n",
       "      <th>1</th>\n",
       "      <td>POI3</td>\n",
       "      <td>45.521629</td>\n",
       "      <td>-73.566024</td>\n",
       "    </tr>\n",
       "    <tr>\n",
       "      <th>2</th>\n",
       "      <td>POI4</td>\n",
       "      <td>45.224830</td>\n",
       "      <td>-63.232729</td>\n",
       "    </tr>\n",
       "  </tbody>\n",
       "</table>\n",
       "</div>"
      ],
      "text/plain": [
       "  POIID   Latitude   Longitude\n",
       "0  POI1  53.546167 -113.485734\n",
       "1  POI3  45.521629  -73.566024\n",
       "2  POI4  45.224830  -63.232729"
      ]
     },
     "execution_count": 215,
     "metadata": {},
     "output_type": "execute_result"
    }
   ],
   "source": [
    "poi_df_filtered.head()"
   ]
  },
  {
   "cell_type": "markdown",
   "metadata": {},
   "source": [
    "#### Calculating the nearest POI for each request via the Haversine distance formula"
   ]
  },
  {
   "cell_type": "code",
   "execution_count": 216,
   "metadata": {},
   "outputs": [],
   "source": [
    "def haversine_dist(lat1, lon1, lat2, lon2):\n",
    "    lon1, lat1, lon2, lat2 = map(radians, [lon1, lat1, lon2, lat2])\n",
    "    \n",
    "    dlon = lon2 - lon1 \n",
    "    dlat = lat2 - lat1 \n",
    "    a = sin(dlat/2)**2 + cos(lat1) * cos(lat2) * sin(dlon/2)**2\n",
    "    c = 2 * asin(sqrt(a)) \n",
    "    R = 6371 # Radius of earth in kilometers\n",
    "    return c * R"
   ]
  },
  {
   "cell_type": "code",
   "execution_count": 251,
   "metadata": {},
   "outputs": [],
   "source": [
    "def find_poi_id_and_distance(lat, long):\n",
    "    distances = poi_df_filtered.apply(\n",
    "        lambda row: haversine_dist(lat, long, row['Latitude'], row['Longitude']), \n",
    "        axis=1\n",
    "    )\n",
    "    \n",
    "    poiid_col_index = poi_df_filtered.columns.get_loc('POIID')\n",
    "    \n",
    "    return pd.Series([poi_df_filtered.iloc[distances.idxmin(), poiid_col_index], distances.iloc[distances.idxmin()]], index=['POIID', 'Distance'])"
   ]
  },
  {
   "cell_type": "code",
   "execution_count": 252,
   "metadata": {},
   "outputs": [
    {
     "name": "stdout",
     "output_type": "stream",
     "text": [
      "CPU times: user 22.4 s, sys: 53.1 ms, total: 22.5 s\n",
      "Wall time: 22.5 s\n"
     ]
    }
   ],
   "source": [
    "%%time\n",
    "\n",
    "result_df = data_df_filtered.apply(\n",
    "    lambda row: find_poi_id_and_distance(row['Latitude'], row['Longitude']),\n",
    "    result_type='expand',\n",
    "    axis=1\n",
    ")"
   ]
  },
  {
   "cell_type": "code",
   "execution_count": 257,
   "metadata": {},
   "outputs": [
    {
     "data": {
      "text/html": [
       "<div>\n",
       "<style scoped>\n",
       "    .dataframe tbody tr th:only-of-type {\n",
       "        vertical-align: middle;\n",
       "    }\n",
       "\n",
       "    .dataframe tbody tr th {\n",
       "        vertical-align: top;\n",
       "    }\n",
       "\n",
       "    .dataframe thead th {\n",
       "        text-align: right;\n",
       "    }\n",
       "</style>\n",
       "<table border=\"1\" class=\"dataframe\">\n",
       "  <thead>\n",
       "    <tr style=\"text-align: right;\">\n",
       "      <th></th>\n",
       "      <th>POIID</th>\n",
       "      <th>Distance</th>\n",
       "    </tr>\n",
       "    <tr>\n",
       "      <th>_ID</th>\n",
       "      <th></th>\n",
       "      <th></th>\n",
       "    </tr>\n",
       "  </thead>\n",
       "  <tbody>\n",
       "    <tr>\n",
       "      <th>4516516</th>\n",
       "      <td>POI3</td>\n",
       "      <td>593.413441</td>\n",
       "    </tr>\n",
       "    <tr>\n",
       "      <th>4516547</th>\n",
       "      <td>POI3</td>\n",
       "      <td>677.309655</td>\n",
       "    </tr>\n",
       "    <tr>\n",
       "      <th>4516550</th>\n",
       "      <td>POI3</td>\n",
       "      <td>569.647737</td>\n",
       "    </tr>\n",
       "    <tr>\n",
       "      <th>4516600</th>\n",
       "      <td>POI3</td>\n",
       "      <td>634.733996</td>\n",
       "    </tr>\n",
       "    <tr>\n",
       "      <th>4516613</th>\n",
       "      <td>POI3</td>\n",
       "      <td>634.733996</td>\n",
       "    </tr>\n",
       "    <tr>\n",
       "      <th>...</th>\n",
       "      <td>...</td>\n",
       "      <td>...</td>\n",
       "    </tr>\n",
       "    <tr>\n",
       "      <th>5614689</th>\n",
       "      <td>POI3</td>\n",
       "      <td>674.211228</td>\n",
       "    </tr>\n",
       "    <tr>\n",
       "      <th>5614801</th>\n",
       "      <td>POI3</td>\n",
       "      <td>522.019302</td>\n",
       "    </tr>\n",
       "    <tr>\n",
       "      <th>5614909</th>\n",
       "      <td>POI3</td>\n",
       "      <td>461.995129</td>\n",
       "    </tr>\n",
       "    <tr>\n",
       "      <th>5614912</th>\n",
       "      <td>POI3</td>\n",
       "      <td>536.874099</td>\n",
       "    </tr>\n",
       "    <tr>\n",
       "      <th>5615006</th>\n",
       "      <td>POI3</td>\n",
       "      <td>544.651313</td>\n",
       "    </tr>\n",
       "  </tbody>\n",
       "</table>\n",
       "<p>17973 rows × 2 columns</p>\n",
       "</div>"
      ],
      "text/plain": [
       "        POIID    Distance\n",
       "_ID                      \n",
       "4516516  POI3  593.413441\n",
       "4516547  POI3  677.309655\n",
       "4516550  POI3  569.647737\n",
       "4516600  POI3  634.733996\n",
       "4516613  POI3  634.733996\n",
       "...       ...         ...\n",
       "5614689  POI3  674.211228\n",
       "5614801  POI3  522.019302\n",
       "5614909  POI3  461.995129\n",
       "5614912  POI3  536.874099\n",
       "5615006  POI3  544.651313\n",
       "\n",
       "[17973 rows x 2 columns]"
      ]
     },
     "execution_count": 257,
     "metadata": {},
     "output_type": "execute_result"
    }
   ],
   "source": [
    "result_df"
   ]
  },
  {
   "cell_type": "code",
   "execution_count": 254,
   "metadata": {},
   "outputs": [
    {
     "data": {
      "text/plain": [
       "POI3    8802\n",
       "POI1    8749\n",
       "POI4     422\n",
       "Name: POIID, dtype: int64"
      ]
     },
     "execution_count": 254,
     "metadata": {},
     "output_type": "execute_result"
    }
   ],
   "source": [
    "result_df['POIID'].value_counts()"
   ]
  },
  {
   "cell_type": "code",
   "execution_count": 261,
   "metadata": {},
   "outputs": [],
   "source": [
    "group_cols = ['POIID']\n",
    "poi_distance_stat_df = result_df.groupby(group_cols).agg(['mean', 'std'])"
   ]
  },
  {
   "cell_type": "code",
   "execution_count": 262,
   "metadata": {},
   "outputs": [],
   "source": [
    "level0 = poi_distance_stat_df.columns.get_level_values(0)\n",
    "level1 = poi_distance_stat_df.columns.get_level_values(1)\n",
    "poi_distance_stat_df.columns = level0 + '_' + level1"
   ]
  },
  {
   "cell_type": "code",
   "execution_count": 263,
   "metadata": {},
   "outputs": [
    {
     "data": {
      "text/html": [
       "<div>\n",
       "<style scoped>\n",
       "    .dataframe tbody tr th:only-of-type {\n",
       "        vertical-align: middle;\n",
       "    }\n",
       "\n",
       "    .dataframe tbody tr th {\n",
       "        vertical-align: top;\n",
       "    }\n",
       "\n",
       "    .dataframe thead th {\n",
       "        text-align: right;\n",
       "    }\n",
       "</style>\n",
       "<table border=\"1\" class=\"dataframe\">\n",
       "  <thead>\n",
       "    <tr style=\"text-align: right;\">\n",
       "      <th></th>\n",
       "      <th>Distance_mean</th>\n",
       "      <th>Distance_std</th>\n",
       "    </tr>\n",
       "    <tr>\n",
       "      <th>POIID</th>\n",
       "      <th></th>\n",
       "      <th></th>\n",
       "    </tr>\n",
       "  </thead>\n",
       "  <tbody>\n",
       "    <tr>\n",
       "      <th>POI1</th>\n",
       "      <td>300.714748</td>\n",
       "      <td>388.273385</td>\n",
       "    </tr>\n",
       "    <tr>\n",
       "      <th>POI3</th>\n",
       "      <td>451.651149</td>\n",
       "      <td>223.631742</td>\n",
       "    </tr>\n",
       "    <tr>\n",
       "      <th>POI4</th>\n",
       "      <td>514.997172</td>\n",
       "      <td>1506.889971</td>\n",
       "    </tr>\n",
       "  </tbody>\n",
       "</table>\n",
       "</div>"
      ],
      "text/plain": [
       "       Distance_mean  Distance_std\n",
       "POIID                             \n",
       "POI1      300.714748    388.273385\n",
       "POI3      451.651149    223.631742\n",
       "POI4      514.997172   1506.889971"
      ]
     },
     "execution_count": 263,
     "metadata": {},
     "output_type": "execute_result"
    }
   ],
   "source": [
    "poi_distance_stat_df"
   ]
  },
  {
   "cell_type": "code",
   "execution_count": 270,
   "metadata": {},
   "outputs": [],
   "source": [
    "group_cols = ['POIID']\n",
    "poi_distance_radius_df = result_df.groupby(group_cols).agg(['max', 'count'])"
   ]
  },
  {
   "cell_type": "code",
   "execution_count": 274,
   "metadata": {},
   "outputs": [],
   "source": [
    "poi_distance_radius_df.columns = ['radius', 'req_count']"
   ]
  },
  {
   "cell_type": "code",
   "execution_count": 283,
   "metadata": {},
   "outputs": [],
   "source": [
    "poi_distance_radius_df['density'] = poi_distance_radius_df['req_count']/(pi*pow(poi_distance_radius_df['radius'], 2))"
   ]
  },
  {
   "cell_type": "code",
   "execution_count": 284,
   "metadata": {},
   "outputs": [
    {
     "data": {
      "text/html": [
       "<div>\n",
       "<style scoped>\n",
       "    .dataframe tbody tr th:only-of-type {\n",
       "        vertical-align: middle;\n",
       "    }\n",
       "\n",
       "    .dataframe tbody tr th {\n",
       "        vertical-align: top;\n",
       "    }\n",
       "\n",
       "    .dataframe thead th {\n",
       "        text-align: right;\n",
       "    }\n",
       "</style>\n",
       "<table border=\"1\" class=\"dataframe\">\n",
       "  <thead>\n",
       "    <tr style=\"text-align: right;\">\n",
       "      <th></th>\n",
       "      <th>radius</th>\n",
       "      <th>req_count</th>\n",
       "      <th>density</th>\n",
       "    </tr>\n",
       "    <tr>\n",
       "      <th>POIID</th>\n",
       "      <th></th>\n",
       "      <th></th>\n",
       "      <th></th>\n",
       "    </tr>\n",
       "  </thead>\n",
       "  <tbody>\n",
       "    <tr>\n",
       "      <th>POI1</th>\n",
       "      <td>11531.820832</td>\n",
       "      <td>8749</td>\n",
       "      <td>0.000021</td>\n",
       "    </tr>\n",
       "    <tr>\n",
       "      <th>POI3</th>\n",
       "      <td>1474.580962</td>\n",
       "      <td>8802</td>\n",
       "      <td>0.001289</td>\n",
       "    </tr>\n",
       "    <tr>\n",
       "      <th>POI4</th>\n",
       "      <td>9349.572770</td>\n",
       "      <td>422</td>\n",
       "      <td>0.000002</td>\n",
       "    </tr>\n",
       "  </tbody>\n",
       "</table>\n",
       "</div>"
      ],
      "text/plain": [
       "             radius  req_count   density\n",
       "POIID                                   \n",
       "POI1   11531.820832       8749  0.000021\n",
       "POI3    1474.580962       8802  0.001289\n",
       "POI4    9349.572770        422  0.000002"
      ]
     },
     "execution_count": 284,
     "metadata": {},
     "output_type": "execute_result"
    }
   ],
   "source": [
    "poi_distance_radius_df"
   ]
  },
  {
   "cell_type": "code",
   "execution_count": null,
   "metadata": {},
   "outputs": [],
   "source": []
  }
 ],
 "metadata": {
  "kernelspec": {
   "display_name": "ml_eq",
   "language": "python",
   "name": "ml_eq"
  },
  "language_info": {
   "codemirror_mode": {
    "name": "ipython",
    "version": 3
   },
   "file_extension": ".py",
   "mimetype": "text/x-python",
   "name": "python",
   "nbconvert_exporter": "python",
   "pygments_lexer": "ipython3",
   "version": "3.7.5"
  }
 },
 "nbformat": 4,
 "nbformat_minor": 4
}
