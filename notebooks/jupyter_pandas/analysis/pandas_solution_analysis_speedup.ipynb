{
 "cells": [
  {
   "cell_type": "code",
   "execution_count": 88,
   "metadata": {},
   "outputs": [],
   "source": [
    "import glob\n",
    "import matplotlib.pyplot as plt\n",
    "import os\n",
    "import pandas as pd\n",
    "import numpy as np\n",
    "import multiprocessing as mp\n",
    "import pandas as pd\n",
    "import seaborn as sns\n",
    "import sklearn as sk\n",
    "\n",
    "from functools import reduce\n",
    "from math import radians, cos, sin, asin, sqrt, pi\n",
    "from pathlib import Path\n",
    "from functools import reduce\n",
    "from pathos.multiprocessing import ProcessPool as Pool\n",
    "from sklearn.cluster import KMeans\n",
    "from toolz.sandbox.parallel import fold\n",
    "\n",
    "from sklearn.base import TransformerMixin, BaseEstimator"
   ]
  },
  {
   "cell_type": "code",
   "execution_count": 49,
   "metadata": {},
   "outputs": [],
   "source": [
    "home_path = Path.home()\n",
    "dir_name = 'ml_eq'\n",
    "\n",
    "data_sample_path = home_path / dir_name / 'data' / 'DataSample.csv'\n",
    "poi_path = home_path / dir_name / 'data' / 'POIList.csv'"
   ]
  },
  {
   "cell_type": "code",
   "execution_count": 50,
   "metadata": {},
   "outputs": [],
   "source": [
    "data_df = pd.read_csv(\n",
    "    data_sample_path,\n",
    "    names=['ID', 'TimeSt', 'Country', 'Province', 'City', 'Latitude', 'Longitude'],\n",
    "    parse_dates=['TimeSt'],\n",
    "    header=0,\n",
    "    na_values=[\"\\\\N\"]\n",
    ")"
   ]
  },
  {
   "cell_type": "code",
   "execution_count": 51,
   "metadata": {},
   "outputs": [
    {
     "name": "stdout",
     "output_type": "stream",
     "text": [
      "<class 'pandas.core.frame.DataFrame'>\n",
      "RangeIndex: 22025 entries, 0 to 22024\n",
      "Data columns (total 7 columns):\n",
      "ID           22025 non-null int64\n",
      "TimeSt       22025 non-null datetime64[ns]\n",
      "Country      22025 non-null object\n",
      "Province     22025 non-null object\n",
      "City         22025 non-null object\n",
      "Latitude     22025 non-null float64\n",
      "Longitude    22025 non-null float64\n",
      "dtypes: datetime64[ns](1), float64(2), int64(1), object(3)\n",
      "memory usage: 1.2+ MB\n"
     ]
    }
   ],
   "source": [
    "data_df.info()"
   ]
  },
  {
   "cell_type": "code",
   "execution_count": 52,
   "metadata": {},
   "outputs": [
    {
     "data": {
      "text/html": [
       "<div>\n",
       "<style scoped>\n",
       "    .dataframe tbody tr th:only-of-type {\n",
       "        vertical-align: middle;\n",
       "    }\n",
       "\n",
       "    .dataframe tbody tr th {\n",
       "        vertical-align: top;\n",
       "    }\n",
       "\n",
       "    .dataframe thead th {\n",
       "        text-align: right;\n",
       "    }\n",
       "</style>\n",
       "<table border=\"1\" class=\"dataframe\">\n",
       "  <thead>\n",
       "    <tr style=\"text-align: right;\">\n",
       "      <th></th>\n",
       "      <th>ID</th>\n",
       "      <th>TimeSt</th>\n",
       "      <th>Country</th>\n",
       "      <th>Province</th>\n",
       "      <th>City</th>\n",
       "      <th>Latitude</th>\n",
       "      <th>Longitude</th>\n",
       "    </tr>\n",
       "  </thead>\n",
       "  <tbody>\n",
       "    <tr>\n",
       "      <th>0</th>\n",
       "      <td>4516516</td>\n",
       "      <td>2017-06-21 00:00:00.143</td>\n",
       "      <td>CA</td>\n",
       "      <td>ON</td>\n",
       "      <td>Waterloo</td>\n",
       "      <td>43.49347</td>\n",
       "      <td>-80.49123</td>\n",
       "    </tr>\n",
       "    <tr>\n",
       "      <th>1</th>\n",
       "      <td>4516547</td>\n",
       "      <td>2017-06-21 18:00:00.193</td>\n",
       "      <td>CA</td>\n",
       "      <td>ON</td>\n",
       "      <td>London</td>\n",
       "      <td>42.93990</td>\n",
       "      <td>-81.27090</td>\n",
       "    </tr>\n",
       "    <tr>\n",
       "      <th>2</th>\n",
       "      <td>4516550</td>\n",
       "      <td>2017-06-21 15:00:00.287</td>\n",
       "      <td>CA</td>\n",
       "      <td>ON</td>\n",
       "      <td>Guelph</td>\n",
       "      <td>43.57760</td>\n",
       "      <td>-80.22010</td>\n",
       "    </tr>\n",
       "    <tr>\n",
       "      <th>3</th>\n",
       "      <td>4516600</td>\n",
       "      <td>2017-06-21 15:00:00.307</td>\n",
       "      <td>CA</td>\n",
       "      <td>ON</td>\n",
       "      <td>Stratford</td>\n",
       "      <td>43.37160</td>\n",
       "      <td>-80.97730</td>\n",
       "    </tr>\n",
       "    <tr>\n",
       "      <th>4</th>\n",
       "      <td>4516613</td>\n",
       "      <td>2017-06-21 15:00:00.497</td>\n",
       "      <td>CA</td>\n",
       "      <td>ON</td>\n",
       "      <td>Stratford</td>\n",
       "      <td>43.37160</td>\n",
       "      <td>-80.97730</td>\n",
       "    </tr>\n",
       "  </tbody>\n",
       "</table>\n",
       "</div>"
      ],
      "text/plain": [
       "        ID                  TimeSt Country Province       City  Latitude  \\\n",
       "0  4516516 2017-06-21 00:00:00.143      CA       ON   Waterloo  43.49347   \n",
       "1  4516547 2017-06-21 18:00:00.193      CA       ON     London  42.93990   \n",
       "2  4516550 2017-06-21 15:00:00.287      CA       ON     Guelph  43.57760   \n",
       "3  4516600 2017-06-21 15:00:00.307      CA       ON  Stratford  43.37160   \n",
       "4  4516613 2017-06-21 15:00:00.497      CA       ON  Stratford  43.37160   \n",
       "\n",
       "   Longitude  \n",
       "0  -80.49123  \n",
       "1  -81.27090  \n",
       "2  -80.22010  \n",
       "3  -80.97730  \n",
       "4  -80.97730  "
      ]
     },
     "execution_count": 52,
     "metadata": {},
     "output_type": "execute_result"
    }
   ],
   "source": [
    "data_df.head()"
   ]
  },
  {
   "cell_type": "code",
   "execution_count": 53,
   "metadata": {},
   "outputs": [
    {
     "data": {
      "text/plain": [
       "ID           22025\n",
       "TimeSt       19972\n",
       "Country          1\n",
       "Province        12\n",
       "City           656\n",
       "Latitude      5282\n",
       "Longitude     5296\n",
       "dtype: int64"
      ]
     },
     "execution_count": 53,
     "metadata": {},
     "output_type": "execute_result"
    }
   ],
   "source": [
    "data_df.nunique()"
   ]
  },
  {
   "cell_type": "code",
   "execution_count": 54,
   "metadata": {},
   "outputs": [],
   "source": [
    "data_df_filtered = data_df.drop_duplicates(subset=['TimeSt', 'Latitude', 'Longitude'], keep=False)"
   ]
  },
  {
   "cell_type": "code",
   "execution_count": 55,
   "metadata": {},
   "outputs": [
    {
     "name": "stdout",
     "output_type": "stream",
     "text": [
      "<class 'pandas.core.frame.DataFrame'>\n",
      "Int64Index: 17973 entries, 0 to 22024\n",
      "Data columns (total 7 columns):\n",
      "ID           17973 non-null int64\n",
      "TimeSt       17973 non-null datetime64[ns]\n",
      "Country      17973 non-null object\n",
      "Province     17973 non-null object\n",
      "City         17973 non-null object\n",
      "Latitude     17973 non-null float64\n",
      "Longitude    17973 non-null float64\n",
      "dtypes: datetime64[ns](1), float64(2), int64(1), object(3)\n",
      "memory usage: 1.1+ MB\n"
     ]
    }
   ],
   "source": [
    "data_df_filtered.info()"
   ]
  },
  {
   "cell_type": "code",
   "execution_count": 56,
   "metadata": {},
   "outputs": [
    {
     "data": {
      "text/plain": [
       "TimeSt                   Latitude  Longitude\n",
       "2017-06-21 22:59:56.167  49.7828   -94.4411     1\n",
       "2017-06-21 07:41:51.570  45.4873   -73.6043     1\n",
       "2017-06-21 07:41:17.497  51.0104   -114.0660    1\n",
       "2017-06-21 07:41:17.583  49.6994   -112.8220    1\n",
       "2017-06-21 07:41:27.723  51.0630   -113.8890    1\n",
       "Name: City, dtype: int64"
      ]
     },
     "execution_count": 56,
     "metadata": {},
     "output_type": "execute_result"
    }
   ],
   "source": [
    "group_cols = ['TimeSt', 'Latitude', 'Longitude']\n",
    "data_df_filtered.groupby(group_cols).agg('count')['City'].sort_values(ascending=False).head()"
   ]
  },
  {
   "cell_type": "markdown",
   "metadata": {},
   "source": [
    "#### Labeling"
   ]
  },
  {
   "cell_type": "code",
   "execution_count": 57,
   "metadata": {},
   "outputs": [],
   "source": [
    "poi_df = pd.read_csv(\n",
    "    poi_path,\n",
    "    names=['POIID', 'Latitude', 'Longitude'],\n",
    "    header=0,\n",
    "    na_values=[\"\\\\N\"]\n",
    ")"
   ]
  },
  {
   "cell_type": "code",
   "execution_count": 58,
   "metadata": {},
   "outputs": [
    {
     "name": "stdout",
     "output_type": "stream",
     "text": [
      "<class 'pandas.core.frame.DataFrame'>\n",
      "RangeIndex: 4 entries, 0 to 3\n",
      "Data columns (total 3 columns):\n",
      "POIID        4 non-null object\n",
      "Latitude     4 non-null float64\n",
      "Longitude    4 non-null float64\n",
      "dtypes: float64(2), object(1)\n",
      "memory usage: 224.0+ bytes\n"
     ]
    }
   ],
   "source": [
    "poi_df.info()"
   ]
  },
  {
   "cell_type": "code",
   "execution_count": 59,
   "metadata": {},
   "outputs": [
    {
     "data": {
      "text/html": [
       "<div>\n",
       "<style scoped>\n",
       "    .dataframe tbody tr th:only-of-type {\n",
       "        vertical-align: middle;\n",
       "    }\n",
       "\n",
       "    .dataframe tbody tr th {\n",
       "        vertical-align: top;\n",
       "    }\n",
       "\n",
       "    .dataframe thead th {\n",
       "        text-align: right;\n",
       "    }\n",
       "</style>\n",
       "<table border=\"1\" class=\"dataframe\">\n",
       "  <thead>\n",
       "    <tr style=\"text-align: right;\">\n",
       "      <th></th>\n",
       "      <th>POIID</th>\n",
       "      <th>Latitude</th>\n",
       "      <th>Longitude</th>\n",
       "    </tr>\n",
       "  </thead>\n",
       "  <tbody>\n",
       "    <tr>\n",
       "      <th>0</th>\n",
       "      <td>POI1</td>\n",
       "      <td>53.546167</td>\n",
       "      <td>-113.485734</td>\n",
       "    </tr>\n",
       "    <tr>\n",
       "      <th>1</th>\n",
       "      <td>POI2</td>\n",
       "      <td>53.546167</td>\n",
       "      <td>-113.485734</td>\n",
       "    </tr>\n",
       "    <tr>\n",
       "      <th>2</th>\n",
       "      <td>POI3</td>\n",
       "      <td>45.521629</td>\n",
       "      <td>-73.566024</td>\n",
       "    </tr>\n",
       "    <tr>\n",
       "      <th>3</th>\n",
       "      <td>POI4</td>\n",
       "      <td>45.224830</td>\n",
       "      <td>-63.232729</td>\n",
       "    </tr>\n",
       "  </tbody>\n",
       "</table>\n",
       "</div>"
      ],
      "text/plain": [
       "  POIID   Latitude   Longitude\n",
       "0  POI1  53.546167 -113.485734\n",
       "1  POI2  53.546167 -113.485734\n",
       "2  POI3  45.521629  -73.566024\n",
       "3  POI4  45.224830  -63.232729"
      ]
     },
     "execution_count": 59,
     "metadata": {},
     "output_type": "execute_result"
    }
   ],
   "source": [
    "poi_df.head()"
   ]
  },
  {
   "cell_type": "markdown",
   "metadata": {},
   "source": [
    "#### There are duplicate entries within the POIID list. POI1 and POI2 are the same."
   ]
  },
  {
   "cell_type": "code",
   "execution_count": 60,
   "metadata": {},
   "outputs": [],
   "source": [
    "poi_df_filtered = poi_df \\\n",
    "    .drop_duplicates(subset=['Latitude', 'Longitude'], keep='first') \\\n",
    "    .reset_index(drop=True)"
   ]
  },
  {
   "cell_type": "code",
   "execution_count": 61,
   "metadata": {},
   "outputs": [
    {
     "data": {
      "text/html": [
       "<div>\n",
       "<style scoped>\n",
       "    .dataframe tbody tr th:only-of-type {\n",
       "        vertical-align: middle;\n",
       "    }\n",
       "\n",
       "    .dataframe tbody tr th {\n",
       "        vertical-align: top;\n",
       "    }\n",
       "\n",
       "    .dataframe thead th {\n",
       "        text-align: right;\n",
       "    }\n",
       "</style>\n",
       "<table border=\"1\" class=\"dataframe\">\n",
       "  <thead>\n",
       "    <tr style=\"text-align: right;\">\n",
       "      <th></th>\n",
       "      <th>POIID</th>\n",
       "      <th>Latitude</th>\n",
       "      <th>Longitude</th>\n",
       "    </tr>\n",
       "  </thead>\n",
       "  <tbody>\n",
       "    <tr>\n",
       "      <th>0</th>\n",
       "      <td>POI1</td>\n",
       "      <td>53.546167</td>\n",
       "      <td>-113.485734</td>\n",
       "    </tr>\n",
       "    <tr>\n",
       "      <th>1</th>\n",
       "      <td>POI3</td>\n",
       "      <td>45.521629</td>\n",
       "      <td>-73.566024</td>\n",
       "    </tr>\n",
       "    <tr>\n",
       "      <th>2</th>\n",
       "      <td>POI4</td>\n",
       "      <td>45.224830</td>\n",
       "      <td>-63.232729</td>\n",
       "    </tr>\n",
       "  </tbody>\n",
       "</table>\n",
       "</div>"
      ],
      "text/plain": [
       "  POIID   Latitude   Longitude\n",
       "0  POI1  53.546167 -113.485734\n",
       "1  POI3  45.521629  -73.566024\n",
       "2  POI4  45.224830  -63.232729"
      ]
     },
     "execution_count": 61,
     "metadata": {},
     "output_type": "execute_result"
    }
   ],
   "source": [
    "poi_df_filtered.head()"
   ]
  },
  {
   "cell_type": "markdown",
   "metadata": {},
   "source": [
    "#### Calculating the nearest POI for each request via the Haversine distance formula"
   ]
  },
  {
   "cell_type": "code",
   "execution_count": 62,
   "metadata": {},
   "outputs": [],
   "source": [
    "def haversine_dist(lat1, lon1, lat2, lon2):\n",
    "    lon1, lat1, lon2, lat2 = map(radians, [lon1, lat1, lon2, lat2])\n",
    "    \n",
    "    dlon = lon2 - lon1 \n",
    "    dlat = lat2 - lat1 \n",
    "    a = sin(dlat/2)**2 + cos(lat1) * cos(lat2) * sin(dlon/2)**2\n",
    "    c = 2 * asin(sqrt(a)) \n",
    "    R = 6371 # Radius of earth in kilometers\n",
    "    return c * R"
   ]
  },
  {
   "cell_type": "code",
   "execution_count": 63,
   "metadata": {},
   "outputs": [],
   "source": [
    "def find_poi_id_and_distance(lat, long):\n",
    "    distances = poi_df_filtered.apply(\n",
    "        lambda row: haversine_dist(lat, long, row['Latitude'], row['Longitude']), \n",
    "        axis=1\n",
    "    )\n",
    "    \n",
    "    poiid_col_index = poi_df_filtered.columns.get_loc('POIID')\n",
    "    \n",
    "    return pd.Series([poi_df_filtered.iloc[distances.idxmin(), poiid_col_index], distances.iloc[distances.idxmin()]], index=['POIID', 'Distance'])"
   ]
  },
  {
   "cell_type": "code",
   "execution_count": 64,
   "metadata": {},
   "outputs": [],
   "source": [
    "def find_poi_id_and_distance_2(lat, long):\n",
    "    distances = poi_df_filtered.apply(\n",
    "        lambda row: haversine_dist(lat, long, row['Latitude'], row['Longitude']), \n",
    "        axis=1\n",
    "    )\n",
    "    \n",
    "    poiid_col_index = poi_df_filtered.columns.get_loc('POIID')\n",
    "    \n",
    "    return pd.Series([poi_df_filtered.iloc[distances.idxmin(), poiid_col_index], distances.iloc[distances.idxmin()]], index=['POIID', 'Distance'])"
   ]
  },
  {
   "cell_type": "code",
   "execution_count": 65,
   "metadata": {},
   "outputs": [],
   "source": [
    "def ex_work(row):\n",
    "    latitude = row.iat[0, lat_loc]\n",
    "    longitude = row.iat[0, long_loc]\n",
    "    return find_poi_id_and_distance_2(latitude, longitude)"
   ]
  },
  {
   "cell_type": "code",
   "execution_count": 66,
   "metadata": {},
   "outputs": [],
   "source": [
    "def concat_df(df1, df2):\n",
    "    return pd.concat((df1, df2), axis=\"rows\")"
   ]
  },
  {
   "cell_type": "code",
   "execution_count": 97,
   "metadata": {},
   "outputs": [],
   "source": [
    "class MapReducer(BaseEstimator, TransformerMixin):\n",
    "    \n",
    "    def __init__(self, n_jobs=1):\n",
    "        self.n_jobs = n_jobs\n",
    "        \n",
    "    def fit(self, X, y=None):\n",
    "        return self\n",
    "    \n",
    "    def transform(self, X):\n",
    "        X_copy = X.copy()\n",
    "        \n",
    "        MAX_WORKERS = mp.cpu_count()\n",
    "        \n",
    "        if self.n_jobs <= -1:\n",
    "            self.num_partitions = MAX_WORKERS\n",
    "        elif self.n_jobs == 0:\n",
    "            self.num_partitions = 1\n",
    "        else:\n",
    "            self.num_partitions = min(self.n_jobs, MAX_WORKERS)\n",
    "        \n",
    "        # splitting data into batches\n",
    "        data_split_list = np.array_split(X_copy, self.num_partitions)\n",
    "        \n",
    "        with Pool(processes=self.num_partitions) as P:\n",
    "            result_df = fold(concat_df, P.imap(self._transform_part, data_split_list), map=P.imap, combine=concat_df)\n",
    "            \n",
    "        return result_df\n",
    "    \n",
    "    def _transform_part(self, df_part):\n",
    "        df_list = []\n",
    "        \n",
    "        for ID, lat, long in zip(df_part['ID'], df_part['Latitude'], df_part['Longitude']):\n",
    "            df_list.append(self._find_poi_id_and_distance(ID, lat, long))\n",
    "            \n",
    "        return pd.DataFrame(df_list, columns =['ID', 'POIID', 'Distance'])\n",
    "    \n",
    "    def _find_poi_id_and_distance(self, ID, lat, long):    \n",
    "        distances = poi_df_filtered.apply(\n",
    "            lambda row: haversine_dist(lat, long, row['Latitude'], row['Longitude']),\n",
    "            axis=1\n",
    "        )\n",
    "        \n",
    "        poiid_col_index = poi_df_filtered.columns.get_loc('POIID')\n",
    "    \n",
    "        return (ID, poi_df_filtered.iloc[distances.idxmin(), poiid_col_index], distances.iloc[distances.idxmin()])"
   ]
  },
  {
   "cell_type": "code",
   "execution_count": 103,
   "metadata": {},
   "outputs": [],
   "source": [
    "map_reducer = MapReducer(n_jobs=3)"
   ]
  },
  {
   "cell_type": "code",
   "execution_count": 101,
   "metadata": {},
   "outputs": [
    {
     "name": "stdout",
     "output_type": "stream",
     "text": [
      "CPU times: user 189 ms, sys: 17.8 ms, total: 207 ms\n",
      "Wall time: 5.66 s\n"
     ]
    }
   ],
   "source": [
    "%%time\n",
    "\n",
    "result = map_reducer.transform(data_df_filtered)"
   ]
  },
  {
   "cell_type": "code",
   "execution_count": 102,
   "metadata": {},
   "outputs": [],
   "source": [
    "class MapReducer(BaseEstimator, TransformerMixin):\n",
    "    \n",
    "    def __init__(self, n_jobs=1):\n",
    "        self.n_jobs = n_jobs\n",
    "        \n",
    "    def fit(self, X, y=None):\n",
    "        return self\n",
    "    \n",
    "    def transform(self, X):\n",
    "        X_copy = X.copy()\n",
    "        \n",
    "        MAX_WORKERS = mp.cpu_count()\n",
    "        num_partitions = 1\n",
    "        \n",
    "        if self.n_jobs <= -1:\n",
    "            num_partitions = MAX_WORKERS\n",
    "        elif self.n_jobs == 0:\n",
    "            num_partitions = 1\n",
    "        else:\n",
    "            num_partitions = min(self.n_jobs, MAX_WORKERS)\n",
    "        \n",
    "        if num_partitions == 1:\n",
    "            # transform sequentially\n",
    "            return X_copy.apply(self._transform_one)\n",
    "        \n",
    "        # splitting data into batches\n",
    "        data_split_list = np.array_split(X_copy, num_partitions)\n",
    "        \n",
    "        with Pool(processes=num_partitions) as P:\n",
    "            result_df = fold(concat_df, P.imap(self._transform_part, data_split_list), map=P.imap, combine=concat_df)\n",
    "            \n",
    "        return result_df\n",
    "    \n",
    "    def _transform_part(self, df_part):\n",
    "        return df_part.apply(\n",
    "            lambda row: self._find_poi_id_and_distance(row['Latitude'], row['Longitude']),\n",
    "            result_type='expand',\n",
    "            axis=1\n",
    "        )\n",
    "    \n",
    "    \n",
    "    def _find_poi_id_and_distance(self, lat, long):\n",
    "        distances = poi_df_filtered.apply(\n",
    "            lambda row: haversine_dist(lat, long, row['Latitude'], row['Longitude']),\n",
    "            axis=1\n",
    "        )\n",
    "        \n",
    "        poiid_col_index = poi_df_filtered.columns.get_loc('POIID')\n",
    "    \n",
    "        return pd.Series([poi_df_filtered.iloc[distances.idxmin(), poiid_col_index], distances.iloc[distances.idxmin()]], index=['POIID', 'Distance'])"
   ]
  },
  {
   "cell_type": "code",
   "execution_count": 104,
   "metadata": {},
   "outputs": [
    {
     "name": "stdout",
     "output_type": "stream",
     "text": [
      "CPU times: user 146 ms, sys: 32.5 ms, total: 178 ms\n",
      "Wall time: 7.8 s\n"
     ]
    }
   ],
   "source": [
    "%%time\n",
    "\n",
    "result = map_reducer.transform(data_df_filtered)"
   ]
  },
  {
   "cell_type": "code",
   "execution_count": 114,
   "metadata": {},
   "outputs": [
    {
     "data": {
      "text/html": [
       "<div>\n",
       "<style scoped>\n",
       "    .dataframe tbody tr th:only-of-type {\n",
       "        vertical-align: middle;\n",
       "    }\n",
       "\n",
       "    .dataframe tbody tr th {\n",
       "        vertical-align: top;\n",
       "    }\n",
       "\n",
       "    .dataframe thead th {\n",
       "        text-align: right;\n",
       "    }\n",
       "</style>\n",
       "<table border=\"1\" class=\"dataframe\">\n",
       "  <thead>\n",
       "    <tr style=\"text-align: right;\">\n",
       "      <th></th>\n",
       "      <th>ID</th>\n",
       "      <th>POIID</th>\n",
       "      <th>Distance</th>\n",
       "    </tr>\n",
       "  </thead>\n",
       "  <tbody>\n",
       "    <tr>\n",
       "      <th>0</th>\n",
       "      <td>4516516</td>\n",
       "      <td>POI3</td>\n",
       "      <td>593.413441</td>\n",
       "    </tr>\n",
       "    <tr>\n",
       "      <th>1</th>\n",
       "      <td>4516547</td>\n",
       "      <td>POI3</td>\n",
       "      <td>677.309655</td>\n",
       "    </tr>\n",
       "    <tr>\n",
       "      <th>2</th>\n",
       "      <td>4516550</td>\n",
       "      <td>POI3</td>\n",
       "      <td>569.647737</td>\n",
       "    </tr>\n",
       "    <tr>\n",
       "      <th>3</th>\n",
       "      <td>4516600</td>\n",
       "      <td>POI3</td>\n",
       "      <td>634.733996</td>\n",
       "    </tr>\n",
       "    <tr>\n",
       "      <th>4</th>\n",
       "      <td>4516613</td>\n",
       "      <td>POI3</td>\n",
       "      <td>634.733996</td>\n",
       "    </tr>\n",
       "    <tr>\n",
       "      <th>...</th>\n",
       "      <td>...</td>\n",
       "      <td>...</td>\n",
       "      <td>...</td>\n",
       "    </tr>\n",
       "    <tr>\n",
       "      <th>4488</th>\n",
       "      <td>5614689</td>\n",
       "      <td>POI3</td>\n",
       "      <td>674.211228</td>\n",
       "    </tr>\n",
       "    <tr>\n",
       "      <th>4489</th>\n",
       "      <td>5614801</td>\n",
       "      <td>POI3</td>\n",
       "      <td>522.019302</td>\n",
       "    </tr>\n",
       "    <tr>\n",
       "      <th>4490</th>\n",
       "      <td>5614909</td>\n",
       "      <td>POI3</td>\n",
       "      <td>461.995129</td>\n",
       "    </tr>\n",
       "    <tr>\n",
       "      <th>4491</th>\n",
       "      <td>5614912</td>\n",
       "      <td>POI3</td>\n",
       "      <td>536.874099</td>\n",
       "    </tr>\n",
       "    <tr>\n",
       "      <th>4492</th>\n",
       "      <td>5615006</td>\n",
       "      <td>POI3</td>\n",
       "      <td>544.651313</td>\n",
       "    </tr>\n",
       "  </tbody>\n",
       "</table>\n",
       "<p>17973 rows × 3 columns</p>\n",
       "</div>"
      ],
      "text/plain": [
       "           ID POIID    Distance\n",
       "0     4516516  POI3  593.413441\n",
       "1     4516547  POI3  677.309655\n",
       "2     4516550  POI3  569.647737\n",
       "3     4516600  POI3  634.733996\n",
       "4     4516613  POI3  634.733996\n",
       "...       ...   ...         ...\n",
       "4488  5614689  POI3  674.211228\n",
       "4489  5614801  POI3  522.019302\n",
       "4490  5614909  POI3  461.995129\n",
       "4491  5614912  POI3  536.874099\n",
       "4492  5615006  POI3  544.651313\n",
       "\n",
       "[17973 rows x 3 columns]"
      ]
     },
     "execution_count": 114,
     "metadata": {},
     "output_type": "execute_result"
    }
   ],
   "source": [
    "result"
   ]
  },
  {
   "cell_type": "code",
   "execution_count": 105,
   "metadata": {},
   "outputs": [
    {
     "name": "stdout",
     "output_type": "stream",
     "text": [
      "CPU times: user 22.8 s, sys: 913 ms, total: 23.7 s\n",
      "Wall time: 23 s\n"
     ]
    }
   ],
   "source": [
    "%%time\n",
    "\n",
    "result_df = data_df_filtered.apply(\n",
    "    lambda row: find_poi_id_and_distance(row['Latitude'], row['Longitude']),\n",
    "    result_type='expand',\n",
    "    axis=1\n",
    ")"
   ]
  },
  {
   "cell_type": "code",
   "execution_count": 257,
   "metadata": {},
   "outputs": [
    {
     "data": {
      "text/html": [
       "<div>\n",
       "<style scoped>\n",
       "    .dataframe tbody tr th:only-of-type {\n",
       "        vertical-align: middle;\n",
       "    }\n",
       "\n",
       "    .dataframe tbody tr th {\n",
       "        vertical-align: top;\n",
       "    }\n",
       "\n",
       "    .dataframe thead th {\n",
       "        text-align: right;\n",
       "    }\n",
       "</style>\n",
       "<table border=\"1\" class=\"dataframe\">\n",
       "  <thead>\n",
       "    <tr style=\"text-align: right;\">\n",
       "      <th></th>\n",
       "      <th>POIID</th>\n",
       "      <th>Distance</th>\n",
       "    </tr>\n",
       "    <tr>\n",
       "      <th>_ID</th>\n",
       "      <th></th>\n",
       "      <th></th>\n",
       "    </tr>\n",
       "  </thead>\n",
       "  <tbody>\n",
       "    <tr>\n",
       "      <th>4516516</th>\n",
       "      <td>POI3</td>\n",
       "      <td>593.413441</td>\n",
       "    </tr>\n",
       "    <tr>\n",
       "      <th>4516547</th>\n",
       "      <td>POI3</td>\n",
       "      <td>677.309655</td>\n",
       "    </tr>\n",
       "    <tr>\n",
       "      <th>4516550</th>\n",
       "      <td>POI3</td>\n",
       "      <td>569.647737</td>\n",
       "    </tr>\n",
       "    <tr>\n",
       "      <th>4516600</th>\n",
       "      <td>POI3</td>\n",
       "      <td>634.733996</td>\n",
       "    </tr>\n",
       "    <tr>\n",
       "      <th>4516613</th>\n",
       "      <td>POI3</td>\n",
       "      <td>634.733996</td>\n",
       "    </tr>\n",
       "    <tr>\n",
       "      <th>...</th>\n",
       "      <td>...</td>\n",
       "      <td>...</td>\n",
       "    </tr>\n",
       "    <tr>\n",
       "      <th>5614689</th>\n",
       "      <td>POI3</td>\n",
       "      <td>674.211228</td>\n",
       "    </tr>\n",
       "    <tr>\n",
       "      <th>5614801</th>\n",
       "      <td>POI3</td>\n",
       "      <td>522.019302</td>\n",
       "    </tr>\n",
       "    <tr>\n",
       "      <th>5614909</th>\n",
       "      <td>POI3</td>\n",
       "      <td>461.995129</td>\n",
       "    </tr>\n",
       "    <tr>\n",
       "      <th>5614912</th>\n",
       "      <td>POI3</td>\n",
       "      <td>536.874099</td>\n",
       "    </tr>\n",
       "    <tr>\n",
       "      <th>5615006</th>\n",
       "      <td>POI3</td>\n",
       "      <td>544.651313</td>\n",
       "    </tr>\n",
       "  </tbody>\n",
       "</table>\n",
       "<p>17973 rows × 2 columns</p>\n",
       "</div>"
      ],
      "text/plain": [
       "        POIID    Distance\n",
       "_ID                      \n",
       "4516516  POI3  593.413441\n",
       "4516547  POI3  677.309655\n",
       "4516550  POI3  569.647737\n",
       "4516600  POI3  634.733996\n",
       "4516613  POI3  634.733996\n",
       "...       ...         ...\n",
       "5614689  POI3  674.211228\n",
       "5614801  POI3  522.019302\n",
       "5614909  POI3  461.995129\n",
       "5614912  POI3  536.874099\n",
       "5615006  POI3  544.651313\n",
       "\n",
       "[17973 rows x 2 columns]"
      ]
     },
     "execution_count": 257,
     "metadata": {},
     "output_type": "execute_result"
    }
   ],
   "source": [
    "result_df"
   ]
  },
  {
   "cell_type": "code",
   "execution_count": 254,
   "metadata": {},
   "outputs": [
    {
     "data": {
      "text/plain": [
       "POI3    8802\n",
       "POI1    8749\n",
       "POI4     422\n",
       "Name: POIID, dtype: int64"
      ]
     },
     "execution_count": 254,
     "metadata": {},
     "output_type": "execute_result"
    }
   ],
   "source": [
    "result_df['POIID'].value_counts()"
   ]
  },
  {
   "cell_type": "code",
   "execution_count": 261,
   "metadata": {},
   "outputs": [],
   "source": [
    "group_cols = ['POIID']\n",
    "poi_distance_stat_df = result_df.groupby(group_cols).agg(['mean', 'std'])"
   ]
  },
  {
   "cell_type": "code",
   "execution_count": 262,
   "metadata": {},
   "outputs": [],
   "source": [
    "level0 = poi_distance_stat_df.columns.get_level_values(0)\n",
    "level1 = poi_distance_stat_df.columns.get_level_values(1)\n",
    "poi_distance_stat_df.columns = level0 + '_' + level1"
   ]
  },
  {
   "cell_type": "code",
   "execution_count": 263,
   "metadata": {},
   "outputs": [
    {
     "data": {
      "text/html": [
       "<div>\n",
       "<style scoped>\n",
       "    .dataframe tbody tr th:only-of-type {\n",
       "        vertical-align: middle;\n",
       "    }\n",
       "\n",
       "    .dataframe tbody tr th {\n",
       "        vertical-align: top;\n",
       "    }\n",
       "\n",
       "    .dataframe thead th {\n",
       "        text-align: right;\n",
       "    }\n",
       "</style>\n",
       "<table border=\"1\" class=\"dataframe\">\n",
       "  <thead>\n",
       "    <tr style=\"text-align: right;\">\n",
       "      <th></th>\n",
       "      <th>Distance_mean</th>\n",
       "      <th>Distance_std</th>\n",
       "    </tr>\n",
       "    <tr>\n",
       "      <th>POIID</th>\n",
       "      <th></th>\n",
       "      <th></th>\n",
       "    </tr>\n",
       "  </thead>\n",
       "  <tbody>\n",
       "    <tr>\n",
       "      <th>POI1</th>\n",
       "      <td>300.714748</td>\n",
       "      <td>388.273385</td>\n",
       "    </tr>\n",
       "    <tr>\n",
       "      <th>POI3</th>\n",
       "      <td>451.651149</td>\n",
       "      <td>223.631742</td>\n",
       "    </tr>\n",
       "    <tr>\n",
       "      <th>POI4</th>\n",
       "      <td>514.997172</td>\n",
       "      <td>1506.889971</td>\n",
       "    </tr>\n",
       "  </tbody>\n",
       "</table>\n",
       "</div>"
      ],
      "text/plain": [
       "       Distance_mean  Distance_std\n",
       "POIID                             \n",
       "POI1      300.714748    388.273385\n",
       "POI3      451.651149    223.631742\n",
       "POI4      514.997172   1506.889971"
      ]
     },
     "execution_count": 263,
     "metadata": {},
     "output_type": "execute_result"
    }
   ],
   "source": [
    "poi_distance_stat_df"
   ]
  },
  {
   "cell_type": "code",
   "execution_count": 270,
   "metadata": {},
   "outputs": [],
   "source": [
    "group_cols = ['POIID']\n",
    "poi_distance_radius_df = result_df.groupby(group_cols).agg(['max', 'count'])"
   ]
  },
  {
   "cell_type": "code",
   "execution_count": 274,
   "metadata": {},
   "outputs": [],
   "source": [
    "poi_distance_radius_df.columns = ['radius', 'req_count']"
   ]
  },
  {
   "cell_type": "code",
   "execution_count": 283,
   "metadata": {},
   "outputs": [],
   "source": [
    "poi_distance_radius_df['density'] = poi_distance_radius_df['req_count']/(pi*pow(poi_distance_radius_df['radius'], 2))"
   ]
  },
  {
   "cell_type": "code",
   "execution_count": 284,
   "metadata": {},
   "outputs": [
    {
     "data": {
      "text/html": [
       "<div>\n",
       "<style scoped>\n",
       "    .dataframe tbody tr th:only-of-type {\n",
       "        vertical-align: middle;\n",
       "    }\n",
       "\n",
       "    .dataframe tbody tr th {\n",
       "        vertical-align: top;\n",
       "    }\n",
       "\n",
       "    .dataframe thead th {\n",
       "        text-align: right;\n",
       "    }\n",
       "</style>\n",
       "<table border=\"1\" class=\"dataframe\">\n",
       "  <thead>\n",
       "    <tr style=\"text-align: right;\">\n",
       "      <th></th>\n",
       "      <th>radius</th>\n",
       "      <th>req_count</th>\n",
       "      <th>density</th>\n",
       "    </tr>\n",
       "    <tr>\n",
       "      <th>POIID</th>\n",
       "      <th></th>\n",
       "      <th></th>\n",
       "      <th></th>\n",
       "    </tr>\n",
       "  </thead>\n",
       "  <tbody>\n",
       "    <tr>\n",
       "      <th>POI1</th>\n",
       "      <td>11531.820832</td>\n",
       "      <td>8749</td>\n",
       "      <td>0.000021</td>\n",
       "    </tr>\n",
       "    <tr>\n",
       "      <th>POI3</th>\n",
       "      <td>1474.580962</td>\n",
       "      <td>8802</td>\n",
       "      <td>0.001289</td>\n",
       "    </tr>\n",
       "    <tr>\n",
       "      <th>POI4</th>\n",
       "      <td>9349.572770</td>\n",
       "      <td>422</td>\n",
       "      <td>0.000002</td>\n",
       "    </tr>\n",
       "  </tbody>\n",
       "</table>\n",
       "</div>"
      ],
      "text/plain": [
       "             radius  req_count   density\n",
       "POIID                                   \n",
       "POI1   11531.820832       8749  0.000021\n",
       "POI3    1474.580962       8802  0.001289\n",
       "POI4    9349.572770        422  0.000002"
      ]
     },
     "execution_count": 284,
     "metadata": {},
     "output_type": "execute_result"
    }
   ],
   "source": [
    "poi_distance_radius_df"
   ]
  },
  {
   "cell_type": "code",
   "execution_count": null,
   "metadata": {},
   "outputs": [],
   "source": []
  }
 ],
 "metadata": {
  "kernelspec": {
   "display_name": "ml_eq",
   "language": "python",
   "name": "ml_eq"
  },
  "language_info": {
   "codemirror_mode": {
    "name": "ipython",
    "version": 3
   },
   "file_extension": ".py",
   "mimetype": "text/x-python",
   "name": "python",
   "nbconvert_exporter": "python",
   "pygments_lexer": "ipython3",
   "version": "3.7.5"
  }
 },
 "nbformat": 4,
 "nbformat_minor": 4
}
