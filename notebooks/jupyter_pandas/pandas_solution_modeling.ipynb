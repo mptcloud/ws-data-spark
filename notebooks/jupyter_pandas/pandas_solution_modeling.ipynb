{
 "cells": [
  {
   "cell_type": "code",
   "execution_count": 1,
   "metadata": {},
   "outputs": [],
   "source": [
    "import glob\n",
    "import matplotlib\n",
    "import matplotlib.pyplot as plt\n",
    "import os\n",
    "import pandas as pd\n",
    "import numpy as np\n",
    "import pandas as pd\n",
    "import seaborn as sns\n",
    "import sklearn as sk\n",
    "\n",
    "from math import radians, cos, sin, asin, sqrt, pi\n",
    "from pathlib import Path"
   ]
  },
  {
   "cell_type": "code",
   "execution_count": 2,
   "metadata": {},
   "outputs": [],
   "source": [
    "%%capture\n",
    "\n",
    "%run pandas_solution_analysis.ipynb"
   ]
  },
  {
   "cell_type": "code",
   "execution_count": 3,
   "metadata": {},
   "outputs": [],
   "source": [
    "def scaling_func(poi_dict):\n",
    "    x_max = max(poi_dict.values())\n",
    "    x_min = min(poi_dict.values())\n",
    "    \n",
    "    for k, v in poi_dict.items():\n",
    "        poi_dict[k] = round(10*(2*v - x_max - x_min)/(x_max - x_min), 3)\n",
    "    \n",
    "    return poi_dict "
   ]
  },
  {
   "cell_type": "markdown",
   "metadata": {},
   "source": [
    "#### By count only, POI3 > POI1 > POI4. Moreover, density also higher as radius of POI3 is much smaller."
   ]
  },
  {
   "cell_type": "code",
   "execution_count": 4,
   "metadata": {},
   "outputs": [
    {
     "data": {
      "text/html": [
       "<div>\n",
       "<style scoped>\n",
       "    .dataframe tbody tr th:only-of-type {\n",
       "        vertical-align: middle;\n",
       "    }\n",
       "\n",
       "    .dataframe tbody tr th {\n",
       "        vertical-align: top;\n",
       "    }\n",
       "\n",
       "    .dataframe thead th {\n",
       "        text-align: right;\n",
       "    }\n",
       "</style>\n",
       "<table border=\"1\" class=\"dataframe\">\n",
       "  <thead>\n",
       "    <tr style=\"text-align: right;\">\n",
       "      <th></th>\n",
       "      <th>radius</th>\n",
       "      <th>request_count</th>\n",
       "      <th>density</th>\n",
       "    </tr>\n",
       "    <tr>\n",
       "      <th>POIID</th>\n",
       "      <th></th>\n",
       "      <th></th>\n",
       "      <th></th>\n",
       "    </tr>\n",
       "  </thead>\n",
       "  <tbody>\n",
       "    <tr>\n",
       "      <th>POI1</th>\n",
       "      <td>11531.820832</td>\n",
       "      <td>8749</td>\n",
       "      <td>0.000021</td>\n",
       "    </tr>\n",
       "    <tr>\n",
       "      <th>POI3</th>\n",
       "      <td>1474.580962</td>\n",
       "      <td>8802</td>\n",
       "      <td>0.001289</td>\n",
       "    </tr>\n",
       "    <tr>\n",
       "      <th>POI4</th>\n",
       "      <td>9349.572770</td>\n",
       "      <td>422</td>\n",
       "      <td>0.000002</td>\n",
       "    </tr>\n",
       "  </tbody>\n",
       "</table>\n",
       "</div>"
      ],
      "text/plain": [
       "             radius  request_count   density\n",
       "POIID                                       \n",
       "POI1   11531.820832           8749  0.000021\n",
       "POI3    1474.580962           8802  0.001289\n",
       "POI4    9349.572770            422  0.000002"
      ]
     },
     "execution_count": 4,
     "metadata": {},
     "output_type": "execute_result"
    }
   ],
   "source": [
    "poi_distance_radius_df"
   ]
  },
  {
   "cell_type": "code",
   "execution_count": 6,
   "metadata": {},
   "outputs": [],
   "source": [
    "count_dict = poi_distance_radius_df['request_count'].to_dict()"
   ]
  },
  {
   "cell_type": "code",
   "execution_count": 7,
   "metadata": {},
   "outputs": [],
   "source": [
    "scaled_dict = scaling_func(count_dict)"
   ]
  },
  {
   "cell_type": "markdown",
   "metadata": {},
   "source": [
    "Not a lot of dispersion in values..."
   ]
  },
  {
   "cell_type": "code",
   "execution_count": 8,
   "metadata": {},
   "outputs": [
    {
     "name": "stdout",
     "output_type": "stream",
     "text": [
      "{'POI1': 9.874, 'POI3': 10.0, 'POI4': -10.0}\n"
     ]
    }
   ],
   "source": [
    "print(scaled_dict)"
   ]
  },
  {
   "cell_type": "markdown",
   "metadata": {},
   "source": [
    "#### Density-wise, POI3 > POI1 > POI4. Now the gap between POI1 and POI4 is too small."
   ]
  },
  {
   "cell_type": "code",
   "execution_count": 9,
   "metadata": {},
   "outputs": [],
   "source": [
    "density_dict = poi_distance_radius_df['density'].to_dict()"
   ]
  },
  {
   "cell_type": "code",
   "execution_count": 10,
   "metadata": {},
   "outputs": [],
   "source": [
    "scaled_dict = scaling_func(density_dict)"
   ]
  },
  {
   "cell_type": "code",
   "execution_count": 11,
   "metadata": {},
   "outputs": [
    {
     "name": "stdout",
     "output_type": "stream",
     "text": [
      "{'POI1': -9.698, 'POI3': 10.0, 'POI4': -10.0}\n"
     ]
    }
   ],
   "source": [
    "print(scaled_dict)"
   ]
  },
  {
   "cell_type": "code",
   "execution_count": 12,
   "metadata": {},
   "outputs": [
    {
     "data": {
      "text/html": [
       "<div>\n",
       "<style scoped>\n",
       "    .dataframe tbody tr th:only-of-type {\n",
       "        vertical-align: middle;\n",
       "    }\n",
       "\n",
       "    .dataframe tbody tr th {\n",
       "        vertical-align: top;\n",
       "    }\n",
       "\n",
       "    .dataframe thead th {\n",
       "        text-align: right;\n",
       "    }\n",
       "</style>\n",
       "<table border=\"1\" class=\"dataframe\">\n",
       "  <thead>\n",
       "    <tr style=\"text-align: right;\">\n",
       "      <th></th>\n",
       "      <th>POIID</th>\n",
       "      <th>Distance</th>\n",
       "    </tr>\n",
       "    <tr>\n",
       "      <th>_ID</th>\n",
       "      <th></th>\n",
       "      <th></th>\n",
       "    </tr>\n",
       "  </thead>\n",
       "  <tbody>\n",
       "    <tr>\n",
       "      <th>4516516</th>\n",
       "      <td>POI3</td>\n",
       "      <td>593.413441</td>\n",
       "    </tr>\n",
       "    <tr>\n",
       "      <th>4516547</th>\n",
       "      <td>POI3</td>\n",
       "      <td>677.309655</td>\n",
       "    </tr>\n",
       "    <tr>\n",
       "      <th>4516550</th>\n",
       "      <td>POI3</td>\n",
       "      <td>569.647737</td>\n",
       "    </tr>\n",
       "    <tr>\n",
       "      <th>4516600</th>\n",
       "      <td>POI3</td>\n",
       "      <td>634.733996</td>\n",
       "    </tr>\n",
       "    <tr>\n",
       "      <th>4516613</th>\n",
       "      <td>POI3</td>\n",
       "      <td>634.733996</td>\n",
       "    </tr>\n",
       "    <tr>\n",
       "      <th>...</th>\n",
       "      <td>...</td>\n",
       "      <td>...</td>\n",
       "    </tr>\n",
       "    <tr>\n",
       "      <th>5614689</th>\n",
       "      <td>POI3</td>\n",
       "      <td>674.211228</td>\n",
       "    </tr>\n",
       "    <tr>\n",
       "      <th>5614801</th>\n",
       "      <td>POI3</td>\n",
       "      <td>522.019302</td>\n",
       "    </tr>\n",
       "    <tr>\n",
       "      <th>5614909</th>\n",
       "      <td>POI3</td>\n",
       "      <td>461.995129</td>\n",
       "    </tr>\n",
       "    <tr>\n",
       "      <th>5614912</th>\n",
       "      <td>POI3</td>\n",
       "      <td>536.874099</td>\n",
       "    </tr>\n",
       "    <tr>\n",
       "      <th>5615006</th>\n",
       "      <td>POI3</td>\n",
       "      <td>544.651313</td>\n",
       "    </tr>\n",
       "  </tbody>\n",
       "</table>\n",
       "<p>17973 rows × 2 columns</p>\n",
       "</div>"
      ],
      "text/plain": [
       "        POIID    Distance\n",
       "_ID                      \n",
       "4516516  POI3  593.413441\n",
       "4516547  POI3  677.309655\n",
       "4516550  POI3  569.647737\n",
       "4516600  POI3  634.733996\n",
       "4516613  POI3  634.733996\n",
       "...       ...         ...\n",
       "5614689  POI3  674.211228\n",
       "5614801  POI3  522.019302\n",
       "5614909  POI3  461.995129\n",
       "5614912  POI3  536.874099\n",
       "5615006  POI3  544.651313\n",
       "\n",
       "[17973 rows x 2 columns]"
      ]
     },
     "execution_count": 12,
     "metadata": {},
     "output_type": "execute_result"
    }
   ],
   "source": [
    "result_df"
   ]
  },
  {
   "cell_type": "markdown",
   "metadata": {},
   "source": [
    "POI1 and POI4 have outliers."
   ]
  },
  {
   "cell_type": "code",
   "execution_count": 13,
   "metadata": {},
   "outputs": [
    {
     "data": {
      "image/png": "[encoded data removed]",
      "text/plain": [
       "<Figure size 432x288 with 1 Axes>"
      ]
     },
     "metadata": {
      "needs_background": "light"
     },
     "output_type": "display_data"
    }
   ],
   "source": [
    "ax = sns.boxplot(x='POIID', y='Distance', data=result_df)"
   ]
  },
  {
   "cell_type": "markdown",
   "metadata": {},
   "source": [
    "#### Mean distance for POI3 is higher than the other two. POI3's higher density is also obvious."
   ]
  },
  {
   "cell_type": "code",
   "execution_count": 14,
   "metadata": {},
   "outputs": [
    {
     "data": {
      "image/png": "[encoded data removed]",
      "text/plain": [
       "<Figure size 432x288 with 1 Axes>"
      ]
     },
     "metadata": {
      "needs_background": "light"
     },
     "output_type": "display_data"
    }
   ],
   "source": [
    "ax = sns.boxplot(x='POIID', y='Distance', data=result_df, showfliers=False)"
   ]
  },
  {
   "cell_type": "markdown",
   "metadata": {},
   "source": [
    "#### Visualizing distances for POI3"
   ]
  },
  {
   "cell_type": "code",
   "execution_count": 16,
   "metadata": {},
   "outputs": [],
   "source": [
    "criteria = (result_df['POIID'] == 'POI3')\n",
    "poi3_df = result_df.loc[criteria, :]"
   ]
  },
  {
   "cell_type": "code",
   "execution_count": 17,
   "metadata": {},
   "outputs": [
    {
     "data": {
      "text/plain": [
       "<matplotlib.axes._subplots.AxesSubplot at 0x7fdaef3b5150>"
      ]
     },
     "execution_count": 17,
     "metadata": {},
     "output_type": "execute_result"
    },
    {
     "data": {
      "image/png": "[encoded data removed]",
      "text/plain": [
       "<Figure size 720x720 with 1 Axes>"
      ]
     },
     "metadata": {
      "needs_background": "light"
     },
     "output_type": "display_data"
    }
   ],
   "source": [
    "plt.figure(figsize = (10, 10))\n",
    "sns.distplot(poi3_df['Distance'], rug=True)"
   ]
  },
  {
   "cell_type": "markdown",
   "metadata": {},
   "source": [
    "#### Visualizing outliers for POI1 and POI4\n",
    "\n",
    "From the plots above and below, anything with a distance over the value of 4000 will be classified as an outlier (playing it safe) "
   ]
  },
  {
   "cell_type": "code",
   "execution_count": 18,
   "metadata": {},
   "outputs": [],
   "source": [
    "criteria = (result_df['POIID'] == 'POI1')\n",
    "poi1_df = result_df.loc[criteria, :]"
   ]
  },
  {
   "cell_type": "code",
   "execution_count": 19,
   "metadata": {},
   "outputs": [
    {
     "data": {
      "text/plain": [
       "<matplotlib.axes._subplots.AxesSubplot at 0x7fdaecffd450>"
      ]
     },
     "execution_count": 19,
     "metadata": {},
     "output_type": "execute_result"
    },
    {
     "data": {
      "image/png": "[encoded data removed]",
      "text/plain": [
       "<Figure size 720x720 with 1 Axes>"
      ]
     },
     "metadata": {
      "needs_background": "light"
     },
     "output_type": "display_data"
    }
   ],
   "source": [
    "plt.figure(figsize = (10, 10))\n",
    "sns.distplot(poi1_df['Distance'], rug=True)"
   ]
  },
  {
   "cell_type": "code",
   "execution_count": 20,
   "metadata": {},
   "outputs": [],
   "source": [
    "criteria = (result_df['POIID'] == 'POI4')\n",
    "poi4_df = result_df.loc[criteria, :]"
   ]
  },
  {
   "cell_type": "code",
   "execution_count": 21,
   "metadata": {},
   "outputs": [
    {
     "data": {
      "text/plain": [
       "<matplotlib.axes._subplots.AxesSubplot at 0x7fdaed864ed0>"
      ]
     },
     "execution_count": 21,
     "metadata": {},
     "output_type": "execute_result"
    },
    {
     "data": {
      "image/png": "[encoded data removed]",
      "text/plain": [
       "<Figure size 720x720 with 1 Axes>"
      ]
     },
     "metadata": {
      "needs_background": "light"
     },
     "output_type": "display_data"
    }
   ],
   "source": [
    "plt.figure(figsize = (10, 10))\n",
    "sns.distplot(poi4_df['Distance'], rug=True)"
   ]
  },
  {
   "cell_type": "markdown",
   "metadata": {},
   "source": [
    "#### Filtering out outliers"
   ]
  },
  {
   "cell_type": "code",
   "execution_count": 69,
   "metadata": {},
   "outputs": [],
   "source": [
    "filter_criteria = (result_df['Distance'] < 4000)"
   ]
  },
  {
   "cell_type": "code",
   "execution_count": 70,
   "metadata": {},
   "outputs": [],
   "source": [
    "filtered_result_df = result_df.loc[filter_criteria, :]"
   ]
  },
  {
   "cell_type": "code",
   "execution_count": 71,
   "metadata": {},
   "outputs": [
    {
     "data": {
      "text/html": [
       "<div>\n",
       "<style scoped>\n",
       "    .dataframe tbody tr th:only-of-type {\n",
       "        vertical-align: middle;\n",
       "    }\n",
       "\n",
       "    .dataframe tbody tr th {\n",
       "        vertical-align: top;\n",
       "    }\n",
       "\n",
       "    .dataframe thead th {\n",
       "        text-align: right;\n",
       "    }\n",
       "</style>\n",
       "<table border=\"1\" class=\"dataframe\">\n",
       "  <thead>\n",
       "    <tr style=\"text-align: right;\">\n",
       "      <th></th>\n",
       "      <th>POIID</th>\n",
       "      <th>Distance</th>\n",
       "    </tr>\n",
       "    <tr>\n",
       "      <th>_ID</th>\n",
       "      <th></th>\n",
       "      <th></th>\n",
       "    </tr>\n",
       "  </thead>\n",
       "  <tbody>\n",
       "    <tr>\n",
       "      <th>4516516</th>\n",
       "      <td>POI3</td>\n",
       "      <td>593.413441</td>\n",
       "    </tr>\n",
       "    <tr>\n",
       "      <th>4516547</th>\n",
       "      <td>POI3</td>\n",
       "      <td>677.309655</td>\n",
       "    </tr>\n",
       "    <tr>\n",
       "      <th>4516550</th>\n",
       "      <td>POI3</td>\n",
       "      <td>569.647737</td>\n",
       "    </tr>\n",
       "    <tr>\n",
       "      <th>4516600</th>\n",
       "      <td>POI3</td>\n",
       "      <td>634.733996</td>\n",
       "    </tr>\n",
       "    <tr>\n",
       "      <th>4516613</th>\n",
       "      <td>POI3</td>\n",
       "      <td>634.733996</td>\n",
       "    </tr>\n",
       "    <tr>\n",
       "      <th>...</th>\n",
       "      <td>...</td>\n",
       "      <td>...</td>\n",
       "    </tr>\n",
       "    <tr>\n",
       "      <th>5614689</th>\n",
       "      <td>POI3</td>\n",
       "      <td>674.211228</td>\n",
       "    </tr>\n",
       "    <tr>\n",
       "      <th>5614801</th>\n",
       "      <td>POI3</td>\n",
       "      <td>522.019302</td>\n",
       "    </tr>\n",
       "    <tr>\n",
       "      <th>5614909</th>\n",
       "      <td>POI3</td>\n",
       "      <td>461.995129</td>\n",
       "    </tr>\n",
       "    <tr>\n",
       "      <th>5614912</th>\n",
       "      <td>POI3</td>\n",
       "      <td>536.874099</td>\n",
       "    </tr>\n",
       "    <tr>\n",
       "      <th>5615006</th>\n",
       "      <td>POI3</td>\n",
       "      <td>544.651313</td>\n",
       "    </tr>\n",
       "  </tbody>\n",
       "</table>\n",
       "<p>17954 rows × 2 columns</p>\n",
       "</div>"
      ],
      "text/plain": [
       "        POIID    Distance\n",
       "_ID                      \n",
       "4516516  POI3  593.413441\n",
       "4516547  POI3  677.309655\n",
       "4516550  POI3  569.647737\n",
       "4516600  POI3  634.733996\n",
       "4516613  POI3  634.733996\n",
       "...       ...         ...\n",
       "5614689  POI3  674.211228\n",
       "5614801  POI3  522.019302\n",
       "5614909  POI3  461.995129\n",
       "5614912  POI3  536.874099\n",
       "5615006  POI3  544.651313\n",
       "\n",
       "[17954 rows x 2 columns]"
      ]
     },
     "execution_count": 71,
     "metadata": {},
     "output_type": "execute_result"
    }
   ],
   "source": [
    "filtered_result_df"
   ]
  },
  {
   "cell_type": "code",
   "execution_count": 79,
   "metadata": {},
   "outputs": [],
   "source": [
    "group_cols = ['POIID']\n",
    "filtered_poi_distance_radius_df = filtered_result_df.groupby(group_cols).agg(['max', 'count'])\n",
    "filtered_poi_distance_radius_df.columns = ['radius', 'request_count']\n",
    "filtered_poi_distance_radius_df['density'] = filtered_poi_distance_radius_df['request_count']/(pi*pow(filtered_poi_distance_radius_df['radius'], 2))"
   ]
  },
  {
   "cell_type": "code",
   "execution_count": 80,
   "metadata": {},
   "outputs": [
    {
     "data": {
      "text/html": [
       "<div>\n",
       "<style scoped>\n",
       "    .dataframe tbody tr th:only-of-type {\n",
       "        vertical-align: middle;\n",
       "    }\n",
       "\n",
       "    .dataframe tbody tr th {\n",
       "        vertical-align: top;\n",
       "    }\n",
       "\n",
       "    .dataframe thead th {\n",
       "        text-align: right;\n",
       "    }\n",
       "</style>\n",
       "<table border=\"1\" class=\"dataframe\">\n",
       "  <thead>\n",
       "    <tr style=\"text-align: right;\">\n",
       "      <th></th>\n",
       "      <th>radius</th>\n",
       "      <th>request_count</th>\n",
       "      <th>density</th>\n",
       "    </tr>\n",
       "    <tr>\n",
       "      <th>POIID</th>\n",
       "      <th></th>\n",
       "      <th></th>\n",
       "      <th></th>\n",
       "    </tr>\n",
       "  </thead>\n",
       "  <tbody>\n",
       "    <tr>\n",
       "      <th>POI1</th>\n",
       "      <td>1684.757584</td>\n",
       "      <td>8744</td>\n",
       "      <td>0.000981</td>\n",
       "    </tr>\n",
       "    <tr>\n",
       "      <th>POI3</th>\n",
       "      <td>1474.580962</td>\n",
       "      <td>8802</td>\n",
       "      <td>0.001289</td>\n",
       "    </tr>\n",
       "    <tr>\n",
       "      <th>POI4</th>\n",
       "      <td>855.256289</td>\n",
       "      <td>408</td>\n",
       "      <td>0.000178</td>\n",
       "    </tr>\n",
       "  </tbody>\n",
       "</table>\n",
       "</div>"
      ],
      "text/plain": [
       "            radius  request_count   density\n",
       "POIID                                      \n",
       "POI1   1684.757584           8744  0.000981\n",
       "POI3   1474.580962           8802  0.001289\n",
       "POI4    855.256289            408  0.000178"
      ]
     },
     "execution_count": 80,
     "metadata": {},
     "output_type": "execute_result"
    }
   ],
   "source": [
    "filtered_poi_distance_radius_df"
   ]
  },
  {
   "cell_type": "markdown",
   "metadata": {},
   "source": [
    "#### Re-doing the scaling function. Now, using the scaling function on density gives a much better result"
   ]
  },
  {
   "cell_type": "code",
   "execution_count": 81,
   "metadata": {},
   "outputs": [],
   "source": [
    "count_dict = filtered_poi_distance_radius_df['request_count'].to_dict()"
   ]
  },
  {
   "cell_type": "code",
   "execution_count": 83,
   "metadata": {},
   "outputs": [
    {
     "name": "stdout",
     "output_type": "stream",
     "text": [
      "{'POI1': 9.862, 'POI3': 10.0, 'POI4': -10.0}\n"
     ]
    }
   ],
   "source": [
    "scaled_dict = scaling_func(count_dict)\n",
    "print(scaled_dict)"
   ]
  },
  {
   "cell_type": "code",
   "execution_count": 84,
   "metadata": {},
   "outputs": [],
   "source": [
    "density_dict = filtered_poi_distance_radius_df['density'].to_dict()"
   ]
  },
  {
   "cell_type": "code",
   "execution_count": 85,
   "metadata": {},
   "outputs": [
    {
     "name": "stdout",
     "output_type": "stream",
     "text": [
      "{'POI1': 4.456, 'POI3': 10.0, 'POI4': -10.0}\n"
     ]
    }
   ],
   "source": [
    "scaled_dict = scaling_func(density_dict)\n",
    "print(scaled_dict)"
   ]
  },
  {
   "cell_type": "code",
   "execution_count": null,
   "metadata": {},
   "outputs": [],
   "source": []
  }
 ],
 "metadata": {
  "kernelspec": {
   "display_name": "ml_eq",
   "language": "python",
   "name": "ml_eq"
  },
  "language_info": {
   "codemirror_mode": {
    "name": "ipython",
    "version": 3
   },
   "file_extension": ".py",
   "mimetype": "text/x-python",
   "name": "python",
   "nbconvert_exporter": "python",
   "pygments_lexer": "ipython3",
   "version": "3.7.5"
  }
 },
 "nbformat": 4,
 "nbformat_minor": 4
}
