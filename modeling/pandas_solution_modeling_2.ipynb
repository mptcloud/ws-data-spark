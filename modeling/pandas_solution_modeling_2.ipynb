{
 "cells": [
  {
   "cell_type": "code",
   "execution_count": 67,
   "metadata": {},
   "outputs": [],
   "source": [
    "import glob\n",
    "import matplotlib\n",
    "import matplotlib.pyplot as plt\n",
    "import os\n",
    "import pandas as pd\n",
    "import numpy as np\n",
    "import pandas as pd\n",
    "import seaborn as sns\n",
    "import sklearn as sk\n",
    "\n",
    "from math import radians, cos, sin, asin, sqrt, pi\n",
    "from pathlib import Path"
   ]
  },
  {
   "cell_type": "code",
   "execution_count": 59,
   "metadata": {},
   "outputs": [],
   "source": [
    "%%capture\n",
    "\n",
    "%run pandas_solution_analysis.ipynb\n",
    "\n",
    "%run pandas_solution_modeling.ipynb"
   ]
  },
  {
   "cell_type": "code",
   "execution_count": 79,
   "metadata": {},
   "outputs": [],
   "source": [
    "def linkage_weighted_mean(n, poi_id_list):\n",
    "    result_dict = {}\n",
    "    for poi_id in poi_id_list:\n",
    "        criteria = (result_df['POIID'] == poi_id)\n",
    "        poi_df = filtered_result_df.loc[criteria, :]\n",
    "        if n == 0:\n",
    "            transformed_series  = np.log(poi_df['Distance'])\n",
    "        else:\n",
    "            transformed_series  = poi_df['Distance']**n\n",
    "        result_dict[poi_id] = transformed_series.sum()/len(poi_df)\n",
    "    return result_dict"
   ]
  },
  {
   "cell_type": "code",
   "execution_count": 80,
   "metadata": {},
   "outputs": [],
   "source": [
    "poi_id_list = ['POI1', 'POI3', 'POI4']"
   ]
  },
  {
   "cell_type": "markdown",
   "metadata": {},
   "source": [
    "The n=0 case just reduces to 1 for each POIID."
   ]
  },
  {
   "cell_type": "code",
   "execution_count": 82,
   "metadata": {},
   "outputs": [
    {
     "name": "stdout",
     "output_type": "stream",
     "text": [
      "Distance exponent -3: {'POI1': 10.0, 'POI3': -7.951, 'POI4': -10.0}\n",
      "Distance exponent -2: {'POI1': 10.0, 'POI3': -5.622, 'POI4': -10.0}\n",
      "Distance exponent -1: {'POI1': 10.0, 'POI3': -4.295, 'POI4': -10.0}\n",
      "Logarithmic distance: {'POI1': -10.0, 'POI3': 10.0, 'POI4': -2.374}\n",
      "Distance exponent 1: {'POI1': -5.067, 'POI3': 10.0, 'POI4': -10.0}\n",
      "Distance exponent 2: {'POI1': -2.124, 'POI3': 10.0, 'POI4': -10.0}\n",
      "Distance exponent 3: {'POI1': 2.96, 'POI3': 10.0, 'POI4': -10.0}\n",
      "Distance exponent 4: {'POI1': 10.0, 'POI3': 8.388, 'POI4': -10.0}\n",
      "Distance exponent 5: {'POI1': 10.0, 'POI3': 3.261, 'POI4': -10.0}\n",
      "Distance exponent 6: {'POI1': 10.0, 'POI3': 1.713, 'POI4': -10.0}\n",
      "Distance exponent 7: {'POI1': 10.0, 'POI3': 1.432, 'POI4': -10.0}\n",
      "Distance exponent 8: {'POI1': 10.0, 'POI3': 1.454, 'POI4': -10.0}\n",
      "Distance exponent 9: {'POI1': 10.0, 'POI3': 1.431, 'POI4': -10.0}\n"
     ]
    }
   ],
   "source": [
    "for i in range(-3, 10):\n",
    "    if i == 0:\n",
    "        print('Logarithmic distance: {}'.format(scaling_func(linkage_weighted_mean(i, poi_id_list))))\n",
    "    else:\n",
    "        print('Distance exponent {}: {}'.format(i, scaling_func(linkage_weighted_mean(i, poi_id_list))))"
   ]
  },
  {
   "cell_type": "code",
   "execution_count": null,
   "metadata": {},
   "outputs": [],
   "source": []
  }
 ],
 "metadata": {
  "kernelspec": {
   "display_name": "ml_eq",
   "language": "python",
   "name": "ml_eq"
  },
  "language_info": {
   "codemirror_mode": {
    "name": "ipython",
    "version": 3
   },
   "file_extension": ".py",
   "mimetype": "text/x-python",
   "name": "python",
   "nbconvert_exporter": "python",
   "pygments_lexer": "ipython3",
   "version": "3.7.5"
  }
 },
 "nbformat": 4,
 "nbformat_minor": 4
}
